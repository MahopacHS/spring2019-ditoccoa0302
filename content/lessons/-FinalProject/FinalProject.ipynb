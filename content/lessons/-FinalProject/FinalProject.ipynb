{
  "cells": [
    {
      "metadata": {
        "trusted": true
      },
      "cell_type": "code",
      "source": "!pip install srcomapi\nimport srcomapi, srcomapi.datatypes as dt\napi = srcomapi.SpeedrunCom()\napi.debug = 0\nimport statistics",
      "execution_count": 1,
      "outputs": [
        {
          "output_type": "stream",
          "text": "Requirement already satisfied: srcomapi in /home/nbuser/anaconda3_501/lib/python3.6/site-packages (0.3.1)\nRequirement already satisfied: requests in /home/nbuser/anaconda3_501/lib/python3.6/site-packages (from srcomapi) (2.21.0)\nRequirement already satisfied: chardet<3.1.0,>=3.0.2 in /home/nbuser/anaconda3_501/lib/python3.6/site-packages (from requests->srcomapi) (3.0.4)\nRequirement already satisfied: certifi>=2017.4.17 in /home/nbuser/anaconda3_501/lib/python3.6/site-packages (from requests->srcomapi) (2018.10.15)\nRequirement already satisfied: urllib3<1.25,>=1.21.1 in /home/nbuser/anaconda3_501/lib/python3.6/site-packages (from requests->srcomapi) (1.23)\nRequirement already satisfied: idna<2.9,>=2.5 in /home/nbuser/anaconda3_501/lib/python3.6/site-packages (from requests->srcomapi) (2.7)\n\u001b[33mWARNING: You are using pip version 19.1, however version 19.1.1 is available.\nYou should consider upgrading via the 'pip install --upgrade pip' command.\u001b[0m\n",
          "name": "stdout"
        }
      ]
    },
    {
      "metadata": {
        "trusted": true
      },
      "cell_type": "code",
      "source": "def get_times_and_wr(category_index):\n    game_runs = {}\n    for category in game.categories:\n        try:\n            if not category.name in game_runs:\n                game_runs[category.name] = {}\n            if category.type == 'per-level':\n                for level in game.levels:\n                    game_runs[category.name][level.name] = dt.Leaderboard(api, data=api.get(\"leaderboards/{}/level/{}/{}?embed=variables\".format(game.id, level.id, category.id)))\n            else:\n                game_runs[category.name] = dt.Leaderboard(api, data=api.get(\"leaderboards/{}/category/{}?embed=variables\".format(game.id, category.id)))\n        except:\n            funny_number = 69420\n    run_times = []\n    category_runs = game_runs[game.categories[category_index].name].runs\n    for run in range(0,len(category_runs)):\n        run_times.append(category_runs[run]['run'].times['primary_t'])\n    runs = {}    \n    if not len(run_times) == 0:\n        runs['wr_holder'] = category_runs[0]['run'].players[0].name\n        runs['wr_video'] = category_runs[0]['run'].videos['links'][0]['uri']\n        runs['times'] = run_times\n    return runs\nprint('done')",
      "execution_count": 2,
      "outputs": [
        {
          "output_type": "stream",
          "text": "done\n",
          "name": "stdout"
        }
      ]
    },
    {
      "metadata": {
        "trusted": true
      },
      "cell_type": "code",
      "source": "def S_to_HMS(run_seconds):\n    hours = int(run_seconds / 3600)\n    seconds_after_hours = run_seconds % 3600\n    minutes = int(seconds_after_hours / 60)\n    seconds = seconds_after_hours % 60\n    run_hms = (str(hours) + ':' + str(\"%02.f\"%minutes) + ':' + str(\"%02.f\"%seconds))\n    return run_hms\nprint('done')",
      "execution_count": 3,
      "outputs": [
        {
          "output_type": "stream",
          "text": "done\n",
          "name": "stdout"
        }
      ]
    },
    {
      "metadata": {
        "trusted": true
      },
      "cell_type": "code",
      "source": "def HMS_to_S(run_hms):\n    seconds = int(run_hms[len(run_hms)-2 : len(run_hms)])\n    minutes = int(run_hms[len(run_hms)-5 : len(run_hms)-3])\n    if len(run_hms) > 5:\n        hours = int(run_hms[0 : len(run_hms)-6])\n    else:\n        hours = 0\n    run_seconds = (hours * 3600) + (minutes * 60) + (seconds)\n    return run_seconds\nprint('done')",
      "execution_count": 4,
      "outputs": [
        {
          "output_type": "stream",
          "text": "done\n",
          "name": "stdout"
        }
      ]
    },
    {
      "metadata": {
        "trusted": true
      },
      "cell_type": "code",
      "source": "def find_percentile(user_time):\n    slow_runs = 0\n    for time in run_times:\n        if time > user_time:\n            slow_runs = slow_runs + 1\n    percentile = int(round((slow_runs / len(run_times)) * 100))\n    return percentile\nprint('done')",
      "execution_count": 5,
      "outputs": [
        {
          "output_type": "stream",
          "text": "done\n",
          "name": "stdout"
        }
      ]
    },
    {
      "metadata": {
        "trusted": true
      },
      "cell_type": "code",
      "source": "print('Welcome to SpeedyStats!')\nwhile True:\n    while True:\n        search = input('To get started, enter game name: ')\n        result = api.search(srcomapi.datatypes.Game, {\"name\": search})\n        if result == []:\n            print(\"No results found for '%s'\" % search)\n        else:\n            break\n    \n    for game in result:\n        print (result.index(game) + 1, '-', game.name)\n    while True:\n        game_select=int(input('Pick the number corresponding to a game: '))\n        if game_select > len(result):\n            print('Invalid input, please try again.')\n        else:\n            break\n    game = result[game_select - 1]\n    print('')\n    \n    for category in game.categories:\n        print (game.categories.index(category) + 1, '-', category.name)\n    while True:\n        category_index = int(input('Pick the number corresponding to a category: ')) - 1\n        if category_index + 1 > len(game.categories):\n            print('Invalid input, please try again.')\n        else:\n            break\n    \n    \n    print('\\nRetrieving runs...')\n    try:\n        runs = get_times_and_wr(category_index)\n        if len(runs) == 0:\n            print('There are no runs of this category. Try searching again.')\n        else:\n            break\n    except:\n        print('There was a problem getting the runs for this category. Try searching again.')\n    \n\nrun_times = runs['times']        \nworld_record = S_to_HMS(run_times[0])\nmean = S_to_HMS(round(statistics.mean(run_times)))\nmedian = S_to_HMS(round(statistics.median(run_times)))\nprint('World record:', world_record)\nprint('World record holder:', runs['wr_holder'])\nprint('World record video:', runs['wr_video'])\nprint('Mean: %s\\nMedian: %s' % (mean, median))\n\nchoice = input(\"\\nWould you like to find the percentile of a given time? \")\nif choice.lower()[0] == 'y':\n    while True:\n        try:\n            user_time = input(\"Enter your time in h:mm:ss format: \")\n            converted = HMS_to_S(user_time)\n            user_percentile=find_percentile(converted)\n            break\n        except:\n            print(\"Invalid input, please try again.\")\n    print(\"That time is faster than %d percent of other times.\" % user_percentile)\nprint(\"Alright, that's all. Thanks for using this program!\")",
      "execution_count": 8,
      "outputs": [
        {
          "output_type": "stream",
          "text": "Welcome to SpeedyStats!\nTo get started, enter game name: hungry pumkin\n1 - Hungry Pumkin\nPick the number corresponding to a game: 1\n\n1 - Any% (Original Site)\n2 - Any% (Other Site)\n3 - Category Extensions\nPick the number corresponding to a category: 3\n\nRetrieving runs...\nWorld record: 0:00:13\nWorld record holder: BGP19000\nWorld record video: https://www.youtube.com/watch?v=cOyBNInXRFc&feature=youtu.be\nMean: 0:00:17\nMedian: 0:00:13\n\nWould you like to find the percentile of a given time? yes\nEnter your time in h:mm:ss format: 0:00:18\nThat time is faster than 17 percent of other times.\nAlright, that's all. Thanks for using this program!\n",
          "name": "stdout"
        }
      ]
    },
    {
      "metadata": {
        "trusted": true
      },
      "cell_type": "code",
      "source": "",
      "execution_count": null,
      "outputs": []
    }
  ],
  "metadata": {
    "kernelspec": {
      "name": "python36",
      "display_name": "Python 3.6",
      "language": "python"
    },
    "language_info": {
      "mimetype": "text/x-python",
      "nbconvert_exporter": "python",
      "name": "python",
      "pygments_lexer": "ipython3",
      "version": "3.6.6",
      "file_extension": ".py",
      "codemirror_mode": {
        "version": 3,
        "name": "ipython"
      }
    }
  },
  "nbformat": 4,
  "nbformat_minor": 2
}