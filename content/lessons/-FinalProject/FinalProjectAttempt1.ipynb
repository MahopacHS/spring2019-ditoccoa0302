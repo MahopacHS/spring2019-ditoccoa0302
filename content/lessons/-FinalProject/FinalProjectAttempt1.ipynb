{
  "cells": [
    {
      "metadata": {
        "trusted": true
      },
      "cell_type": "code",
      "source": "!pip install srcomapi\nimport srcomapi, srcomapi.datatypes as dt\napi = srcomapi.SpeedrunCom()\napi.debug = 1\nimport statistics\nimport matplotlib\nimport matplotlib.pyplot as plt",
      "execution_count": 4,
      "outputs": [
        {
          "output_type": "stream",
          "text": "Requirement already satisfied: srcomapi in /home/nbuser/anaconda3_501/lib/python3.6/site-packages (0.3.1)\nRequirement already satisfied: requests in /home/nbuser/anaconda3_501/lib/python3.6/site-packages (from srcomapi) (2.21.0)\nRequirement already satisfied: certifi>=2017.4.17 in /home/nbuser/anaconda3_501/lib/python3.6/site-packages (from requests->srcomapi) (2018.10.15)\nRequirement already satisfied: urllib3<1.25,>=1.21.1 in /home/nbuser/anaconda3_501/lib/python3.6/site-packages (from requests->srcomapi) (1.23)\nRequirement already satisfied: chardet<3.1.0,>=3.0.2 in /home/nbuser/anaconda3_501/lib/python3.6/site-packages (from requests->srcomapi) (3.0.4)\nRequirement already satisfied: idna<2.9,>=2.5 in /home/nbuser/anaconda3_501/lib/python3.6/site-packages (from requests->srcomapi) (2.7)\n\u001b[33mWARNING: You are using pip version 19.1, however version 19.1.1 is available.\nYou should consider upgrading via the 'pip install --upgrade pip' command.\u001b[0m\n",
          "name": "stdout"
        }
      ]
    },
    {
      "metadata": {
        "trusted": true
      },
      "cell_type": "code",
      "source": "def getRunStats(game, category):\n    ",
      "execution_count": 2,
      "outputs": [
        {
          "output_type": "error",
          "ename": "SyntaxError",
          "evalue": "unexpected EOF while parsing (<ipython-input-2-4422230bffac>, line 1)",
          "traceback": [
            "\u001b[0;36m  File \u001b[0;32m\"<ipython-input-2-4422230bffac>\"\u001b[0;36m, line \u001b[0;32m1\u001b[0m\n\u001b[0;31m    def getRunStats(game, category):\u001b[0m\n\u001b[0m                                    ^\u001b[0m\n\u001b[0;31mSyntaxError\u001b[0m\u001b[0;31m:\u001b[0m unexpected EOF while parsing\n"
          ]
        }
      ]
    },
    {
      "metadata": {
        "trusted": true
      },
      "cell_type": "code",
      "source": "search = input('Enter game name: ')\nresult = api.search(srcomapi.datatypes.Game, {\"name\": search})\n\nfor game in result:\n    print (result.index(game) + 1, game)",
      "execution_count": 17,
      "outputs": [
        {
          "output_type": "stream",
          "name": "stdout",
          "text": "Enter game name: super mario 64\n1 <Game \"Super Mario 64\">\n2 <Game \"Super Mario 64 DS\">\n3 <Game \"Super Mario 64 Extra\">\n4 <Game \"Super Mario 64 Online\">\n5 <Game \"Super Mario 64 (iQue)\">\n6 <Game \"Super Mario 64 MADNESS\">\n7 <Game \"Super Mario 64 HD Remake\">\n8 <Game \"Super Mario 64 Randomizer\">\n9 <Game \"Super Mario 64 Multiplayer\">\n10 <Game \"Super Mario 64 Seaside Town\">\n11 <Game \"Super Mario 64 Chaos Edition\">\n12 <Game \"Super Mario 64: Beta Revival\">\n13 <Game \"SM64 The Final Star\">\n14 <Game \"Super Mario 64 Temple Explorer\">\n15 <Game \"Super Mario 64 Relax your Life\">\n16 <Game \"Super Mario 64: The Green Stars\">\n17 <Game \"Super Mario 64 The Missing Stars\">\n18 <Game \"Super Mario 64 1.5 - Ztar Attack!\">\n19 <Game \"Super Mario 64: Twisted Adventures\">\n20 <Game \"Super Mario 64 Really Good Edition\">\n"
        }
      ]
    },
    {
      "metadata": {
        "trusted": true
      },
      "cell_type": "code",
      "source": "",
      "execution_count": null,
      "outputs": []
    }
  ],
  "metadata": {
    "kernelspec": {
      "name": "python36",
      "display_name": "Python 3.6",
      "language": "python"
    },
    "language_info": {
      "mimetype": "text/x-python",
      "nbconvert_exporter": "python",
      "name": "python",
      "pygments_lexer": "ipython3",
      "version": "3.6.6",
      "file_extension": ".py",
      "codemirror_mode": {
        "version": 3,
        "name": "ipython"
      }
    }
  },
  "nbformat": 4,
  "nbformat_minor": 2
}