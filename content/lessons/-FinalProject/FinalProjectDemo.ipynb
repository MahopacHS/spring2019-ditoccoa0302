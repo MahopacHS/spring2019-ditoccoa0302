{
  "cells": [
    {
      "metadata": {},
      "cell_type": "markdown",
      "source": "This program uses the srcomapi module to retrieve all speedruns of the No SBA category of the game SpongeBob SquarePants: Battle for Bikini Bottom, and then goes through those runs to find the world record, mean, and median times. In the future we will make this program accept user input to search for games and categories. It will also display the times in hours, minutes, and seconds instead of just seconds. Sadly, permission is denied to install the module on the terminal, so it has to be installed here."
    },
    {
      "metadata": {
        "trusted": true
      },
      "cell_type": "code",
      "source": "!pip install srcomapi",
      "execution_count": 2,
      "outputs": [
        {
          "output_type": "stream",
          "text": "Requirement already satisfied: srcomapi in /home/nbuser/anaconda3_501/lib/python3.6/site-packages (0.3.1)\nRequirement already satisfied: requests in /home/nbuser/anaconda3_501/lib/python3.6/site-packages (from srcomapi) (2.21.0)\nRequirement already satisfied: idna<2.9,>=2.5 in /home/nbuser/anaconda3_501/lib/python3.6/site-packages (from requests->srcomapi) (2.7)\nRequirement already satisfied: chardet<3.1.0,>=3.0.2 in /home/nbuser/anaconda3_501/lib/python3.6/site-packages (from requests->srcomapi) (3.0.4)\nRequirement already satisfied: certifi>=2017.4.17 in /home/nbuser/anaconda3_501/lib/python3.6/site-packages (from requests->srcomapi) (2018.10.15)\nRequirement already satisfied: urllib3<1.25,>=1.21.1 in /home/nbuser/anaconda3_501/lib/python3.6/site-packages (from requests->srcomapi) (1.23)\n\u001b[33mWARNING: You are using pip version 19.1, however version 19.1.1 is available.\nYou should consider upgrading via the 'pip install --upgrade pip' command.\u001b[0m\n",
          "name": "stdout"
        }
      ]
    },
    {
      "metadata": {
        "trusted": true
      },
      "cell_type": "code",
      "source": "import srcomapi, srcomapi.datatypes as dt\napi = srcomapi.SpeedrunCom()\napi.debug = 0\n\nimport statistics\n\nprint('done')",
      "execution_count": 10,
      "outputs": [
        {
          "output_type": "stream",
          "text": "done\n",
          "name": "stdout"
        }
      ]
    },
    {
      "metadata": {
        "trusted": true
      },
      "cell_type": "code",
      "source": "api.search(srcomapi.datatypes.Game, {\"name\": \"battle for bikini bottom\"})",
      "execution_count": 4,
      "outputs": [
        {
          "output_type": "execute_result",
          "execution_count": 4,
          "data": {
            "text/plain": "[<Game \"SpongeBob SquarePants: Battle for Bikini Bottom\">,\n <Game \"SpongeBob SquarePants: Battle for Bikini Bottom (PC)\">,\n <Game \"SpongeBob SquarePants: Battle for Bikini Bottom (GBA)\">,\n <Game \"SpongeBob SquarePants: Battle for Bikini Bottom Category Extensions\">]"
          },
          "metadata": {}
        }
      ]
    },
    {
      "metadata": {
        "trusted": true
      },
      "cell_type": "code",
      "source": "game = _[0]",
      "execution_count": 5,
      "outputs": []
    },
    {
      "metadata": {
        "trusted": true
      },
      "cell_type": "code",
      "source": "game.categories",
      "execution_count": 6,
      "outputs": [
        {
          "output_type": "execute_result",
          "execution_count": 6,
          "data": {
            "text/plain": "[<Category \"No SBA\">,\n <Category \"NG+\">,\n <Category \"All Golden Spatulas\">,\n <Category \"Any%\">,\n <Category \"All Socks\">,\n <Category \"100%\">,\n <Category \"All Level Spatulas\">,\n <Category \"NG+ 100%\">,\n <Category \"100%\">,\n <Category \"Cheat%\">]"
          },
          "metadata": {}
        }
      ]
    },
    {
      "metadata": {
        "trusted": true,
        "scrolled": false
      },
      "cell_type": "code",
      "source": "game_runs = {}\nfor category in game.categories:\n    if not category.name in game_runs:\n            game_runs[category.name] = {}\n    if category.type == 'per-level':\n        for level in game.levels:\n            game_runs[category.name][level.name] = dt.Leaderboard(api, data=api.get(\"leaderboards/{}/level/{}/{}?embed=variables\".format(game.id, level.id, category.id)))\n    else:\n        game_runs[category.name] = dt.Leaderboard(api, data=api.get(\"leaderboards/{}/category/{}?embed=variables\".format(game.id, category.id)))\nprint('done')",
      "execution_count": 29,
      "outputs": [
        {
          "output_type": "stream",
          "text": "done\n",
          "name": "stdout"
        }
      ]
    },
    {
      "metadata": {
        "trusted": true
      },
      "cell_type": "code",
      "source": "category_runs = game_runs['No SBA'].runs\nrun_times = []\nnum_runs = 0\nfor run in range(0,len(category_runs)):\n    run_times.append(category_runs[run]['run'].times['primary_t'])\n    num_runs = num_runs + 1\n\nwr_time = category_runs[0]['run'].times['primary_t']\nmean = round(statistics.mean(run_times))\nmedian = round(statistics.median(run_times))\n\nprint('mean: ' , mean , 'seconds')\nprint('median: ' , median , 'seconds')\nprint('world record: ', wr_time, 'seconds')",
      "execution_count": 30,
      "outputs": [
        {
          "output_type": "stream",
          "text": "mean:  6595 seconds\nmedian:  5160 seconds\nworld record:  3205 seconds\n",
          "name": "stdout"
        }
      ]
    },
    {
      "metadata": {
        "trusted": true
      },
      "cell_type": "code",
      "source": "",
      "execution_count": null,
      "outputs": []
    },
    {
      "metadata": {
        "trusted": true
      },
      "cell_type": "code",
      "source": "",
      "execution_count": null,
      "outputs": []
    }
  ],
  "metadata": {
    "kernelspec": {
      "name": "python36",
      "display_name": "Python 3.6",
      "language": "python"
    },
    "language_info": {
      "mimetype": "text/x-python",
      "nbconvert_exporter": "python",
      "name": "python",
      "pygments_lexer": "ipython3",
      "version": "3.6.6",
      "file_extension": ".py",
      "codemirror_mode": {
        "version": 3,
        "name": "ipython"
      }
    }
  },
  "nbformat": 4,
  "nbformat_minor": 2
}