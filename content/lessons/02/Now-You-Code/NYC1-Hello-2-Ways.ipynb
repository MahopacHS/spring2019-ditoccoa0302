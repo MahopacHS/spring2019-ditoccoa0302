{
  "cells": [
    {
      "metadata": {},
      "cell_type": "markdown",
      "source": "# Now You Code 1: Hello 2 Ways\n\nWrite a Python program which prompts you to input your first name and then your last name. It should then print your name two ways First Last and Last, First. For example:\n\n```\nWhat is your first name? Michael\nWhat is your last name? Fudge\nHello, Michael Fudge\nOr should I say Fudge, Michael\n```\n"
    },
    {
      "metadata": {
        "collapsed": true
      },
      "cell_type": "markdown",
      "source": "## Step 1: Problem Analysis\n\nInputs:\n-first name and last name\n\nOutputs:\n-First name last name\n-Last name, first name\n\nAlgorithm (Steps in Program):\n-input first name\n-input last name\n-print the first name then the last name\n-print the last name then the first name\n"
    },
    {
      "metadata": {
        "trusted": true
      },
      "cell_type": "code",
      "source": "# Step 2: Write code here\nfirst_name = input(\"What's your name? \")\nlast_name = input(\"What's your last name? \")\nprint(\"Hello,\", first_name, last_name)\nprint(\"Or should I say\", last_name + \",\", first_name)",
      "execution_count": 1,
      "outputs": [
        {
          "output_type": "stream",
          "name": "stdout",
          "text": "What's your name? B\nWhat's your last name? e\nHello, B e\nOr should I say e, B\n"
        }
      ]
    },
    {
      "metadata": {},
      "cell_type": "markdown",
      "source": "## Step 3: Questions\n\n1. What happens when don't follow the instructions and enter your first name as your last name? Does the code still run? Why?\n2. What type of error it when the program runs but does not handle bad input?\n3. Is there anything you can do in code to correct this type of error? Why or why not?"
    },
    {
      "metadata": {},
      "cell_type": "markdown",
      "source": "## Reminder of Evaluation Criteria\n\n1. What the problem attempted (analysis, code, and answered questions) ?\n2. What the problem analysis thought out? (does the program match the plan?)\n3. Does the code execute without syntax error?\n4. Does the code solve the intended problem?\n5. Is the code well written? (easy to understand, modular, and self-documenting, handles errors)\n"
    },
    {
      "metadata": {
        "collapsed": true,
        "trusted": false
      },
      "cell_type": "code",
      "source": "",
      "execution_count": null,
      "outputs": []
    }
  ],
  "metadata": {
    "anaconda-cloud": {},
    "kernelspec": {
      "name": "python3",
      "display_name": "Python 3",
      "language": "python"
    },
    "language_info": {
      "mimetype": "text/x-python",
      "nbconvert_exporter": "python",
      "name": "python",
      "pygments_lexer": "ipython3",
      "version": "3.5.4",
      "file_extension": ".py",
      "codemirror_mode": {
        "version": 3,
        "name": "ipython"
      }
    }
  },
  "nbformat": 4,
  "nbformat_minor": 1
}