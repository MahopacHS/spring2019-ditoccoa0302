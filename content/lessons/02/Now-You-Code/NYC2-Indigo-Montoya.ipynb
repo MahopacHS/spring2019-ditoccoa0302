{
  "cells": [
    {
      "metadata": {},
      "cell_type": "markdown",
      "source": "# Now You Code 2: Indigo Montoya\n\n[The Pricess Bride](https://www.rottentomatoes.com/m/princess_bride/) is an adventure film from the 80's, a true cult classic. One of the many notable scenes involves a character Indigo Montoya who explains his character's motivation for revenge through the catch-phase:\n\n\"Hello. My name is Indigo Montoya. You killed my father. Prepare to die!\"\n\nYou can watch the clip here: [https://www.youtube.com/watch?v=YY4cnMmo9qw](https://www.youtube.com/watch?v=YY4cnMmo9qw)\n\nWrite a program in Python which asks the user to enter **your name**, a **relative** and an **past-tense action**. For example if you enter \"Indigo Montoya\", \"Father\" and \"killed\", the program will then output:\n\n\"Hello. My name is Indigo Montoya. You killed my father. Prepare to die!\"\n\nOr you could input \"Mike Fudge\", \"Uncle\" and \"Tickled\" to get:\n\n\"Hello. My name is Mike Fudge. You Tickled my Uncle. Prepare to die!\"\n"
    },
    {
      "metadata": {
        "collapsed": true
      },
      "cell_type": "markdown",
      "source": "## Step 1: Problem Analysis\n\nInputs:\n- name\n- relative\n- past-tense action\n\nOutputs:\n- a sentence with the chosen words inserted into it\n\nAlgorithm (Steps in Program):\n- input the name\n- input the relative\n- input the past-tense verb\n- print the complete line with the name, verb, and relative inserted into it"
    },
    {
      "metadata": {
        "trusted": true
      },
      "cell_type": "code",
      "source": "# Step 2: Write code here\nname = input(\"Enter a name: \")\nrelative = input(\"Enter a relative: \")\naction = input(\"Enter a past-tense action: \")\nprint(\"Hello. My name is\", name + \". You\", action, \"my\", relative + \". Prepare to die!\")",
      "execution_count": 3,
      "outputs": [
        {
          "output_type": "stream",
          "name": "stdout",
          "text": "Enter a name: bob\nEnter a relative: grandpa\nEnter a past-tense action: dabbed\nHello. My name is bob. You dabbed my grandpa. Prepare to die!\n"
        }
      ]
    },
    {
      "metadata": {},
      "cell_type": "markdown",
      "source": "## Step 3: Questions\n\n1. What happens when neglect the instructions and enter a past-tense action instead of a name? Does the code still run? Why?\n\nThe code still executes because it can't tell the difference between a name and a past tense action. It just stores the string of letters to use it later.\n\n2. What type of error it when the program runs but does not handle bad input?\n\nA logical error\n\n3. Is there anything you can do in code to correct this type of error? Why or why not?\n\nThe only way to correct this kind of error is to go back through your code and figure out which part of the program is coded incorrectly.\n"
    },
    {
      "metadata": {},
      "cell_type": "markdown",
      "source": "## Reminder of Evaluation Criteria\n\n1. What the problem attempted (analysis, code, and answered questions) ?\n2. What the problem analysis thought out? (does the program match the plan?)\n3. Does the code execute without syntax error?\n4. Does the code solve the intended problem?\n5. Is the code well written? (easy to understand, modular, and self-documenting, handles errors)\n"
    },
    {
      "metadata": {
        "collapsed": true,
        "trusted": false
      },
      "cell_type": "code",
      "source": "",
      "execution_count": null,
      "outputs": []
    }
  ],
  "metadata": {
    "anaconda-cloud": {},
    "kernelspec": {
      "name": "python3",
      "display_name": "Python 3",
      "language": "python"
    },
    "language_info": {
      "mimetype": "text/x-python",
      "nbconvert_exporter": "python",
      "name": "python",
      "pygments_lexer": "ipython3",
      "version": "3.5.4",
      "file_extension": ".py",
      "codemirror_mode": {
        "version": 3,
        "name": "ipython"
      }
    }
  },
  "nbformat": 4,
  "nbformat_minor": 1
}