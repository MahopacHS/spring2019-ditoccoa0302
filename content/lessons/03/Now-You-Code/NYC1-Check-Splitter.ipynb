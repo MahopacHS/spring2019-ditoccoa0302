{
  "cells": [
    {
      "metadata": {},
      "cell_type": "markdown",
      "source": "# Now You Code 1: Check Splitter\n\nWrite a Python program which splits up a restaurant check. It first prompts you to input the total amount of your check, then the number of people dining. It should then output the amout each diner must contribute to the check.  For example:\n\n```\n*** Check Splitter ***\nHow much is the amount of the check? 100.00\nHow many people ? 6\nEach person owes: $16.67\n```\n\nNOTE: Use string formatters to display the output to two decimal places.\n"
    },
    {
      "metadata": {
        "collapsed": true
      },
      "cell_type": "markdown",
      "source": "## Step 1: Problem Analysis\n\nInputs:\n\n- amount of the check\n- amount of people\n\nOutputs:\n\n- amount each person should contribute\n\nAlgorithm (Steps in Program):\n\n- input amount of the check\n- input amount of people\n- calculate the contribution\n- print the contribution\n"
    },
    {
      "metadata": {
        "trusted": true
      },
      "cell_type": "code",
      "source": "# Step 2: Write code here\ncheck = float(input(\"Enter amount of the check: \"))\npeople = int(input(\"Enter amount of people: \"))\ncontribution = check / people\nprint(\"Each person owes $%.2f.\" % (contribution))",
      "execution_count": 1,
      "outputs": [
        {
          "output_type": "stream",
          "name": "stdout",
          "text": "Enter amount of the check: 100.00\nEnter amount of people: 6\nEach person owes $16.67.\n"
        }
      ]
    },
    {
      "metadata": {},
      "cell_type": "markdown",
      "source": "## Step 3: Questions\n\n1. What happens when you enter `TWO` instead of `2` for the number of people dining? or $60 as the amount of the check, instead of 60?\n\nAn error happens because the program won't be able to convert the strings to numbers.\n\n2. What type of error is this? Do you think it can be handled in code?\n\nThis is a value error which I don't think can be handled in code.\n\n3. Explain what happens when you enter `0.5` for the number of people dining? Does the program run? Does it make sense? \n\nThe program doesn't run because it can't convert a string into an integer.\n"
    },
    {
      "metadata": {},
      "cell_type": "markdown",
      "source": "## Reminder of Evaluation Criteria\n\n1. What the problem attempted (analysis, code, and answered questions) ?\n2. What the problem analysis thought out? (does the program match the plan?)\n3. Does the code execute without syntax error?\n4. Does the code solve the intended problem?\n5. Is the code well written? (easy to understand, modular, and self-documenting, handles errors)\n"
    },
    {
      "metadata": {
        "collapsed": true,
        "trusted": false
      },
      "cell_type": "code",
      "source": "",
      "execution_count": null,
      "outputs": []
    }
  ],
  "metadata": {
    "anaconda-cloud": {},
    "kernelspec": {
      "name": "python3",
      "display_name": "Python 3",
      "language": "python"
    },
    "language_info": {
      "mimetype": "text/x-python",
      "nbconvert_exporter": "python",
      "name": "python",
      "file_extension": ".py",
      "version": "3.5.4",
      "pygments_lexer": "ipython3",
      "codemirror_mode": {
        "version": 3,
        "name": "ipython"
      }
    }
  },
  "nbformat": 4,
  "nbformat_minor": 1
}