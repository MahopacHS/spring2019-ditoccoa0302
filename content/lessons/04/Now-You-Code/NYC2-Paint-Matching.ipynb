{
  "cells": [
    {
      "metadata": {},
      "cell_type": "markdown",
      "source": "# Now You Code 2: Paint Pricing\n\nHouse Depot, a big-box hardware retailer, has contracted you to create an app to calculate paint prices. \n\nThe price of paint is determined by the following factors:\n- Everyday quality paint is `$19.99` per gallon.\n- Select quality paint is `$24.99` per gallon.\n- Premium quality paint is `$32.99` per gallon.\n\nIn addition if the customer wants computerized color-matching that incurs an additional fee of `$4.99` per gallon. \n\nWrite a program to ask the user to select a paint quality: 'everyday', 'select' or 'premium' and then whether they need color matching and then outputs the price per gallon of the paint.\n\nExample Run 1:\n\n```\nWhich paint quality do you require ['everyday', 'select', 'premium'] ?select\nDo you require color matching [y/n] ?y\nTotal price of select paint with color matching is $29.98\n```\n\nExample Run 2:\n\n```\nWhich paint quality do you require ['everyday', 'select', 'premium'] ?premium\nDo you require color matching [y/n] ?n\nTotal price of premium paint without color matching is $32.99\n```"
    },
    {
      "metadata": {
        "collapsed": true
      },
      "cell_type": "markdown",
      "source": "## Step 1: Problem Analysis\n\nInputs: type of paint, preference of color matching\n\nOutputs: price\n\nAlgorithm (Steps in Program):\n- input type of paint\n- input color matching\n- if using everyday paint, set price to $19.99\n- if using select paint, set price to $24.99\n- if using premium paint, set price to $32.99\n- if color matching is used, add $5.00\n- print the final price\n"
    },
    {
      "metadata": {
        "trusted": true
      },
      "cell_type": "code",
      "source": "# Step 2: Write code here\npaint = input(\"What quality of paint would you like [everyday, select, premium] \")\nif paint == \"everyday\":\n    price = 19.99\nelif paint == \"select\":\n    price = 24.99\nelif paint == \"premium\":\n    price = 32.99\nelse:\n    print(\"That's not a paint quality\")\nif paint == \"everyday\" or paint == \"select\" or paint == \"premium\":\n    color_matching = input(\"Would you like color matching [y/n] \")\n    if color_matching == \"y\":\n        color_matching = \"with\"\n        price = price + 4.99\n    elif color_matching == \"n\":\n        color_matching = \"without\"\n    else:\n        print (\"You must enter y or n\")\n    if color_matching == \"with\" or color_matching == \"without\":\n        print(\"Total price of %s paint %s color matching is $%.2f\" % (paint, color_matching, price))",
      "execution_count": 9,
      "outputs": [
        {
          "output_type": "stream",
          "name": "stdout",
          "text": "What quality of paint would you like [everyday, select, premium] everyday\nWould you like color matching [y/n] n\nTotal price of everyday paint without color matching is $19.99\n"
        }
      ]
    },
    {
      "metadata": {},
      "cell_type": "markdown",
      "source": "## Step 3: Questions\n\n1. When you enter something other than `'everyday', 'select',` or  `'premium'` what happens? Modify the program to print `that is not a paint quality` and then exit in those cases.\n\nWhen I enter it, the price of the paint defaults to $37.98, which is the price of premium paint with color matching.\n\n2. What happens when you enter something other than `'y'` or `'n'` for color matching? Re-write the program to print `you must enter y or n` whenever you enter something other than those two values.\n\nThe program doesn't add the extra $4.99 and doesn't change the text in the printed line to \"with\" or \"without\".\n\n3. Why can't we use Python's `try...except` in this example?\n\nWe can't because the program will still allow us to input strings other than the ones we want.\n\n4. How many times (at minimum) must we execute this program and check the results before we can be reasonably assured it is correct?\n\n8 times: 3 paint qualities times two options for color matching, plus one incorrect input on each variable."
    },
    {
      "metadata": {},
      "cell_type": "markdown",
      "source": "## Reminder of Evaluation Criteria\n\n1. What the problem attempted (analysis, code, and answered questions) ?\n2. What the problem analysis thought out? (does the program match the plan?)\n3. Does the code execute without syntax error?\n4. Does the code solve the intended problem?\n5. Is the code well written? (easy to understand, modular, and self-documenting, handles errors)\n"
    },
    {
      "metadata": {
        "collapsed": true,
        "trusted": false
      },
      "cell_type": "code",
      "source": "",
      "execution_count": null,
      "outputs": []
    }
  ],
  "metadata": {
    "anaconda-cloud": {},
    "kernelspec": {
      "name": "python3",
      "display_name": "Python 3",
      "language": "python"
    },
    "language_info": {
      "mimetype": "text/x-python",
      "nbconvert_exporter": "python",
      "name": "python",
      "file_extension": ".py",
      "version": "3.5.4",
      "pygments_lexer": "ipython3",
      "codemirror_mode": {
        "version": 3,
        "name": "ipython"
      }
    }
  },
  "nbformat": 4,
  "nbformat_minor": 1
}