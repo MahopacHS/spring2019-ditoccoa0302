{
  "cells": [
    {
      "metadata": {},
      "cell_type": "markdown",
      "source": "# Now You Code 3: Final Grade in IST256\n\n# Part 1\n\nOur Course Syllabus has a grading scale here:\n\nhttp://ist256.syr.edu/syllabus/#grading-scale\n\nWrite a Python program to input a number of points earned out of 600 and then\noutputs the registrar letter grade. \n\nFor example:\n\n    IST256 Grade Calculator\n    Enter total points out of 600:  550\n    Grade: A- \n"
    },
    {
      "metadata": {
        "collapsed": true
      },
      "cell_type": "markdown",
      "source": "## Step 1: Problem Analysis\n\nInputs: amount of points\n\nOutputs: final grade\n\nAlgorithm (Steps in Program):\n\n- print the starting text\n- input the amount of points\n- check if the amount points is at least the minimum amount of points required to earn each grade\n- if so, set the grade to its corresponding letter\n- print the grade\n\n(steps 3 and 4 repeat nine times)\n\n\n"
    },
    {
      "metadata": {
        "trusted": true
      },
      "cell_type": "code",
      "source": "#Step 2: write code here\nprint(\"IST256 Grade Calculator\")\npoints = int(input(\"Enter total points out of 600: \"))\nif points >= 570:\n    grade = \"A\"\nelif points >= 540:\n    grade = \"A-\"\nelif points >= 510:\n    grade = \"B+\"\nelif points >= 480:\n    grade = \"B\"\nelif points >= 450:\n    grade = \"B\"\nelif points >= 420:\n    grade = \"C+\"\nelif points >= 390:\n    grade = \"C\"\nelif points >= 360:\n    grade = \"C-\"\nelif points >= 300:\n    grade = \"D\"\nelif points >= 0:\n    grade = \"F\"\nprint(\"Grade: %s\" % (grade))",
      "execution_count": 22,
      "outputs": [
        {
          "output_type": "stream",
          "text": "IST256 Grade Calculator\nEnter total points out of 600: 400\nGrade: C\n",
          "name": "stdout"
        }
      ]
    },
    {
      "metadata": {},
      "cell_type": "markdown",
      "source": "# Part 2\n\nNow that you got it working,  re-write your code to handle bad input. Specifically:\n\n\n- non integer values\n- integer values outside the 0 to 600 range.\n\n**Note:** Exception handling is not part of our algorithm. It's a programming concern, not a problem-solving concern!"
    },
    {
      "metadata": {
        "trusted": true
      },
      "cell_type": "code",
      "source": "## Step 2 (again): write code again but handle errors with try...except\nprint(\"IST256 Grade Calculator\")\ntry:\n    points = int(input(\"Enter total points out of 600: \"))\n    if points > 600 or points < 0:\n        print(\"You must enter a value from 0 to 600.\")\n    elif points >= 570:\n        grade = \"A\"\n    elif points >= 540:\n        grade = \"A-\"\n    elif points >= 510:\n        grade = \"B+\"\n    elif points >= 480:\n        grade = \"B\"\n    elif points >= 450:\n        grade = \"B\"\n    elif points >= 420:\n        grade = \"C+\"\n    elif points >= 390:\n        grade = \"C\"\n    elif points >= 360:\n        grade = \"C-\"\n    elif points >= 300:\n        grade = \"D\"\n    elif points >= 0:\n        grade = \"F\"\n    if points >= 0 and points <= 600:\n        print(\"Grade: %s\" % (grade))\nexcept:\n    print(\"You didn't enter an integer!\")",
      "execution_count": 23,
      "outputs": [
        {
          "output_type": "stream",
          "text": "IST256 Grade Calculator\nEnter total points out of 600: 521.5\nYou didn't enter an integer!\n",
          "name": "stdout"
        }
      ]
    },
    {
      "metadata": {},
      "cell_type": "markdown",
      "source": "## Step 3: Questions\n\n1. What specific Python Error are we handling (please provide the name of it)?\n\nA value error\n\n2. How many times must you execute this program and check the output before you canbe reasonably assured your code is correct? Explain.\n\n12 times: once for each grade range, one value above 600, one value below 0, and one non-integer input.\n\n3. When testing this program do you think its more important to test numbers in the middle of the grade range or exactly on the boundary between one grade range and the next. Justify your response.\n\nOn the boundary between one grade range and the next because it verifies that the >= operators work as intended. For example, \"points > 570\" would accept values 571 and up, while \"points >= 570\" would accept values 570 and up like the grade range specifies."
    },
    {
      "metadata": {},
      "cell_type": "markdown",
      "source": "## Reminder of Evaluation Criteria\n\n1. What the problem attempted (analysis, code, and answered questions) ?\n2. What the problem analysis thought out? (does the program match the plan?)\n3. Does the code execute without syntax error?\n4. Does the code solve the intended problem?\n5. Is the code well written? (easy to understand, modular, and self-documenting, handles errors)\n"
    },
    {
      "metadata": {
        "trusted": true
      },
      "cell_type": "code",
      "source": "",
      "execution_count": null,
      "outputs": []
    }
  ],
  "metadata": {
    "anaconda-cloud": {},
    "kernelspec": {
      "name": "python3",
      "display_name": "Python 3",
      "language": "python"
    },
    "language_info": {
      "mimetype": "text/x-python",
      "nbconvert_exporter": "python",
      "name": "python",
      "file_extension": ".py",
      "version": "3.5.4",
      "pygments_lexer": "ipython3",
      "codemirror_mode": {
        "version": 3,
        "name": "ipython"
      }
    }
  },
  "nbformat": 4,
  "nbformat_minor": 1
}