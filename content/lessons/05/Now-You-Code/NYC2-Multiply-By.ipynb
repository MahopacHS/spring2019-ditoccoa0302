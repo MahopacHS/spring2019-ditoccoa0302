{
  "cells": [
    {
      "metadata": {},
      "cell_type": "markdown",
      "source": "# Now You Code 2: Multiply By\n\nWrite a program to ask for a number to multiply by and then lists the multiplication table for that number from 1 to 10. This process will repeat until you enter quit as which point the program will exit.\n\nWow. Seems complicated! We'll use technique called problem simplification to make this problem a little easier to solve.\n\nFirst we'll write a complete program to solve *part* of the problem, then we will take our new level of understanding to solve the *entire* problem.\n\n## Start with Sub-Problem 1\n\nLet's write a program to simply input a number and then uses a loop to print out the multiplication table up to 10  for that number. \n\nFor example, when you input `5`:\n\n```\nEnter number to multiply by: 5\n1 x 5 = 5\n2 x 5 = 10\n3 x 5 = 15\n4 x 5 = 20\n5 x 5 = 25\n6 x 5 = 30\n7 x 5 = 35\n8 x 5 = 40\n9 x 5 = 45\n10 x 5 = 50\n```\n"
    },
    {
      "metadata": {
        "collapsed": true
      },
      "cell_type": "markdown",
      "source": "## Step 1: Problem Analysis for Sub-Problem 1\n\nInputs: a number\n\nOutputs: the time table for that number up to 10\n\nAlgorithm (Steps in Program):\n\n\n-input the number as an integer\n\n-for numbers one to 10\n\n    -print the number, the increment, and the product of the two\n"
    },
    {
      "metadata": {
        "trusted": true
      },
      "cell_type": "code",
      "source": "# Step 2: write code for sub-problem 1\nnumber = int(input(\"Enter a number: \"))\nfor i in range(1, 11):\n    print (\"%d X %d = %d\" % (number, i, number * i))",
      "execution_count": 6,
      "outputs": [
        {
          "output_type": "stream",
          "name": "stdout",
          "text": "Enter a number: 109\n109 X 1 = 109\n109 X 2 = 218\n109 X 3 = 327\n109 X 4 = 436\n109 X 5 = 545\n109 X 6 = 654\n109 X 7 = 763\n109 X 8 = 872\n109 X 9 = 981\n109 X 10 = 1090\n"
        }
      ]
    },
    {
      "metadata": {},
      "cell_type": "markdown",
      "source": "# Full Problem \n\nNow that we've got part of the problem figured out, let's solve the entire problem. The program should keep asking for numbers and then print out multiplcation tables until you enter `quit`. Here's an example:\n\nExample Run:\n\n```\nEnter number to multiply by or type 'quit': 10\n1 x 10 = 10\n2 x 10 = 20\n3 x 10 = 30\n4 x 10 = 40\n5 x 10 = 50\n6 x 10 = 60\n7 x 10 = 70\n8 x 10 = 80\n9 x 10 = 90\n10 x 10 = 100\nEnter number to multiply by or type 'quit': 5\n1 x 5 = 5\n2 x 5 = 10\n3 x 5 = 15\n4 x 5 = 20\n5 x 5 = 25\n6 x 5 = 30\n7 x 5 = 35\n8 x 5 = 40\n9 x 5 = 45\n10 x 5 = 50\nEnter number to multiply by or type 'quit': quit\n```\n\n**NOTE:** you need another loop complete this program. Take the code you wrote in the first part and repeat it in another loop until you type quit. "
    },
    {
      "metadata": {
        "collapsed": true
      },
      "cell_type": "markdown",
      "source": "## Step 3: Problem Analysis for Full Problem\n\nInputs: a number or \"quit\"\n\nOutputs: The time table of the number\n\nAlgorithm (Steps in Program):\n- input the number (or quit)\n- loop indefinitely:\n- if the input is \"quit\": break\n- else: \n- convert the number to integer\n- for numbers 1-10, print the number, the increment, and the product of the two"
    },
    {
      "metadata": {
        "trusted": true
      },
      "cell_type": "code",
      "source": "# Step 4: Write code for full problem\nwhile True:\n    number = input('Enter a number to multiply or type \"quit\": ')\n    if number == \"quit\":\n        break\n    else:\n        number = int(number)\n        for i in range(1, 11):\n            print (\"%d X %d = %d\" % (number, i, number * i))",
      "execution_count": 10,
      "outputs": [
        {
          "output_type": "stream",
          "name": "stdout",
          "text": "Enter a number to multiply or type \"quit\": 5\n5 X 1 = 5\n5 X 2 = 10\n5 X 3 = 15\n5 X 4 = 20\n5 X 5 = 25\n5 X 6 = 30\n5 X 7 = 35\n5 X 8 = 40\n5 X 9 = 45\n5 X 10 = 50\nEnter a number to multiply or type \"quit\": 4\n4 X 1 = 4\n4 X 2 = 8\n4 X 3 = 12\n4 X 4 = 16\n4 X 5 = 20\n4 X 6 = 24\n4 X 7 = 28\n4 X 8 = 32\n4 X 9 = 36\n4 X 10 = 40\nEnter a number to multiply or type \"quit\": 999\n999 X 1 = 999\n999 X 2 = 1998\n999 X 3 = 2997\n999 X 4 = 3996\n999 X 5 = 4995\n999 X 6 = 5994\n999 X 7 = 6993\n999 X 8 = 7992\n999 X 9 = 8991\n999 X 10 = 9990\nEnter a number to multiply or type \"quit\": quit\n"
        }
      ]
    },
    {
      "metadata": {},
      "cell_type": "markdown",
      "source": "## Step 3: Questions\n\n1. What is the loop control variable for the first (outer) loop?\n\nThe input being \"quit\" determines whether the outer loop continues or closes.\n\n2. What is the loop control variable for the second (inner) loop?\n\nThe inner loop is controlled by the increment being in the range (1,11).\n\n3. Provide at least one way this program can be improved, or make more flexible by introducing more inputs?\n\nThe program can be improved by saying the input is invalid when a string other than \"quit\" is entered."
    },
    {
      "metadata": {},
      "cell_type": "markdown",
      "source": "## Reminder of Evaluation Criteria\n\n1. What the problem attempted (analysis, code, and answered questions) ?\n2. What the problem analysis thought out? (does the program match the plan?)\n3. Does the code execute without syntax error?\n4. Does the code solve the intended problem?\n5. Is the code well written? (easy to understand, modular, and self-documenting, handles errors)\n"
    },
    {
      "metadata": {
        "collapsed": true,
        "trusted": false
      },
      "cell_type": "code",
      "source": "",
      "execution_count": null,
      "outputs": []
    }
  ],
  "metadata": {
    "anaconda-cloud": {},
    "kernelspec": {
      "name": "python3",
      "display_name": "Python 3",
      "language": "python"
    },
    "language_info": {
      "mimetype": "text/x-python",
      "nbconvert_exporter": "python",
      "name": "python",
      "pygments_lexer": "ipython3",
      "version": "3.5.4",
      "file_extension": ".py",
      "codemirror_mode": {
        "version": 3,
        "name": "ipython"
      }
    }
  },
  "nbformat": 4,
  "nbformat_minor": 1
}