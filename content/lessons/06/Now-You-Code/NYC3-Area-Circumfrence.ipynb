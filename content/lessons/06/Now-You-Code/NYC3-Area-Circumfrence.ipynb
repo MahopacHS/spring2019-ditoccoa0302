{
  "cells": [
    {
      "metadata": {},
      "cell_type": "markdown",
      "source": "# Now You Code 3: Area and Circumfrence\n\nIn this assignment you are tasks with writing a program which inputs the radius of a circle, and outputs the circumfrence and area of that circle. Feel free to lookup the formulas online. \n\nWe will use the **Write - Refactor - Test - Rewrite** approach to complete the final solution which uses functions.\n\n**NOTE** `import math` then use `math.PI` to get the value of Pi https://en.wikipedia.org/wiki/Pi"
    },
    {
      "metadata": {},
      "cell_type": "markdown",
      "source": "## Step 1: Write\n\nHere's the algorihm of this program. Write the solution in Python.\n\n```\n    input radius as a float\n    calculate circle area\n    calcuate circle circumfrence\n    print radus, area, circumfrence\n```\n\nExample run:\n\n```\nEnter Radius: 1\nA circle with radius 1.000000 has area 3.141593 and circumfrence 6.283185\n```\n"
    },
    {
      "metadata": {
        "trusted": true
      },
      "cell_type": "code",
      "source": "import math\n## TODO: Write the solution here Step 1\nradius = float(input(\"Enter the radius: \"))\narea = radius ** 2 * math.pi\ncircumference = 2 * math.pi * radius\nprint (\"Radius = %f, Area = %f, Circumference = %f\" % (radius, area, circumference))",
      "execution_count": 10,
      "outputs": [
        {
          "output_type": "stream",
          "name": "stdout",
          "text": "Enter the radius: 5\nRadius = 5.000000, Area = 78.539816, Circumference = 31.415927\n"
        }
      ]
    },
    {
      "metadata": {},
      "cell_type": "markdown",
      "source": "## Step 2: Refactor\n\nNext we need to refactor the `area` and `circumfrence` logic into functions. \n\n- `CircleArea()` has one input a `radius` and returns the `area` as output.\n- `CircleCircumfrence()` has one input a `radius` and returns the `circumfrence` as output. \n"
    },
    {
      "metadata": {
        "trusted": true
      },
      "cell_type": "code",
      "source": "import math\n## Step 2: Refactor into two functions def CircleArea... and def CircleCircumfrence\ndef CircleArea(radius):\n    area = radius ** 2 * math.pi\n    return area\ndef CircleCircumference(radius):\n    circumference = 2 * radius * math.pi\n    return circumference\n",
      "execution_count": 4,
      "outputs": []
    },
    {
      "metadata": {},
      "cell_type": "markdown",
      "source": "## Step 3: Test \n\nTime to test. Write two tests, once for each function\n```\nWHEN radius=1 We EXPECT CircleArea(radius) to return 3.141593 \nWHEN radius=1 We EXPECT CircleCircumfrence(radius) to return 6.283185\n```\n\nMake sure you call the function to get the actual, just like in the coding lab. \n\nNOTE: If its accurate to 4 decimal places, that's sufficient. The test values might be different because of how the \"%f\" format code works."
    },
    {
      "metadata": {
        "trusted": true
      },
      "cell_type": "code",
      "source": "# Step 3: Write tests\nprint(\"When radius=1 we EXPECT CircleArea(radius) to return 3.141593. Actual:\", CircleArea(1))\nprint(\"When radius=1 we EXPECT CircleCircumference(radius) to return 6.283185. Actual:\", CircleCircumference(1))",
      "execution_count": 5,
      "outputs": [
        {
          "output_type": "stream",
          "text": "When radius=1 we EXPECT CircleArea(radius) to return 3.141593. Actual: 3.141592653589793\nWhen radius=1 we EXPECT CircleCircumference(radius) to return 6.283185. Actual: 6.283185307179586\n",
          "name": "stdout"
        }
      ]
    },
    {
      "metadata": {},
      "cell_type": "markdown",
      "source": "## Step 4: rewrite the program to use the function\n\nFinally re-write the original program, but call the functions. \n"
    },
    {
      "metadata": {
        "trusted": true
      },
      "cell_type": "code",
      "source": "## Step 4: Write program here from the algorithm above\nradius = float(input(\"Enter the radius: \"))\nprint(\"Radius = %f, Area = %f, Circumference = %f\" % (radius, CircleArea(radius), CircleCircumference(radius)))",
      "execution_count": 7,
      "outputs": [
        {
          "output_type": "stream",
          "name": "stdout",
          "text": "Enter the radius: 5\nRadius = 5.000000, Area = 78.539816, Circumference = 31.415927\n"
        }
      ]
    },
    {
      "metadata": {},
      "cell_type": "markdown",
      "source": "## Step 6: Questions\n\n1. Provide 3 advantages for programming a user function in your code like `CircleArea`  or `CircleCircumfrence`\n\nFirst, it allows you to calculate the same things multiple times which makes it easier to write. Second, it can make the final program easier to understand with less repetition. And lastly, it can save space by using fewer lines of code.\n\n2. If we want to guarantee our `CircleCircumfrence` function is 100% accurate, what is the minimum number of test cases must we provide in step 3?\nThree times, once with an integer, one with a decimal, and zero."
    },
    {
      "metadata": {},
      "cell_type": "markdown",
      "source": "## Reminder of Evaluation Criteria\n\n1. What the problem attempted (analysis, code, and answered questions) ?\n2. What the problem analysis thought out? (does the program match the plan?)\n3. Does the code execute without syntax error?\n4. Does the code solve the intended problem?\n5. Is the code well written? (easy to understand, modular, and self-documenting, handles errors)\n"
    },
    {
      "metadata": {
        "collapsed": true,
        "trusted": false
      },
      "cell_type": "code",
      "source": "",
      "execution_count": null,
      "outputs": []
    }
  ],
  "metadata": {
    "anaconda-cloud": {},
    "kernelspec": {
      "name": "python3",
      "display_name": "Python 3",
      "language": "python"
    },
    "language_info": {
      "mimetype": "text/x-python",
      "nbconvert_exporter": "python",
      "name": "python",
      "pygments_lexer": "ipython3",
      "version": "3.5.4",
      "file_extension": ".py",
      "codemirror_mode": {
        "version": 3,
        "name": "ipython"
      }
    }
  },
  "nbformat": 4,
  "nbformat_minor": 1
}