{
  "cells": [
    {
      "metadata": {},
      "cell_type": "markdown",
      "source": "# Now You Code 4: Should I Sleep In?\n\nAlways. :-) \n\nActually we'd like to write a program which will suggest whether or not we can sleep in. Our criteria will be as follows.\n\n- Is it the weekend? Then sleep in.\n- Is it a holiday? Then sleep in.\n- Otherwise you need to get up!\n\nLet's write a program to input the day of the week and ask whether or not its a holiday, then make the appropriate decision as to whether or not we should sleep in.\n\nWe will use the **Write - Refactor - Test - Rewrite** approach to complete the final solution which will refactor the day of the week logic into a function."
    },
    {
      "metadata": {},
      "cell_type": "markdown",
      "source": "## Step 1: Write\n\nHere's the algorithm of this program. Write the solution in Python.\n\n```\n    input day of the week\n    input is it a holiday\n    if day of the week is a weekend\n        print go back to bed its the weekend\n    else\n        if its a holiday\n            print go back to bed. its a holiday\n        else\n            print you need to get up\n```\n\nExample Run 1:\n\n```\nWhat day of the week is it? Monday\nIs it a holiday? No\nYou need to get up!\n```\n\nExample Run 2:\n\n```\nWhat day of the week is it? Saturday\nIs it a holiday? No\nGo back to bed! It's the weekend.\n```\n\nExample Run 3:\n\n```\nWhat day of the week is it? Monday\nIs it a holiday? Yes\nGo back to bed! It's a Holiday.\n```\n"
    },
    {
      "metadata": {
        "trusted": true
      },
      "cell_type": "code",
      "source": "## TODO: Write the solution here\nday = input(\"What day of the week is it? \")\nholiday = input(\"Is it a holiday? \")\nif day == \"Saturday\" or day == \"Sunday\":\n    print(\"Go back to bed, it's the weekend\")\nelif holiday == \"Yes\":\n    print (\"Go back to bed, it's a holiday\")\nelse:\n    print (\"You need to get up!\")",
      "execution_count": 4,
      "outputs": [
        {
          "output_type": "stream",
          "name": "stdout",
          "text": "What day of the week is it? Wednesday\nIs it a holiday? No\nYou need to get up!\n"
        }
      ]
    },
    {
      "metadata": {},
      "cell_type": "markdown",
      "source": "## Step 2: Refactor\n\nNext we need to refactor the part of this program which checks to see if the day of the week is a weekend. The function:\n\n- `IsWeekend()` has one input a `day_of_week` and returns `True` when it's a `Saturday` or `Sunday`, `False` for all other days.\n"
    },
    {
      "metadata": {
        "trusted": true
      },
      "cell_type": "code",
      "source": "## Step 2: Refactor into function IsWeekend(day_of_week)\ndef IsWeekend(day_of_week):\n    if day_of_week == \"Saturday\" or day_of_week == \"Sunday\":\n        return True\n    else:\n        return False",
      "execution_count": 14,
      "outputs": []
    },
    {
      "metadata": {},
      "cell_type": "markdown",
      "source": "## Step 3: Test \n\nTime to test. Write 7 tests, once for each day of the week.\n```\nWHEN day_of_week='Monday' We EXPECT IsWeekend(day_of_week) to return False\nWHEN day_of_week='Tuesday' We EXPECT IsWeekend(day_of_week) to return False\nWHEN day_of_week='Wednesday' We EXPECT IsWeekend(day_of_week) to return False\nWHEN day_of_week='Thursday' We EXPECT IsWeekend(day_of_week) to return False\nWHEN day_of_week='Friday' We EXPECT IsWeekend(day_of_week) to return False\nWHEN day_of_week='Saturday' We EXPECT IsWeekend(day_of_week) to return True\nWHEN day_of_week='Sunday' We EXPECT IsWeekend(day_of_week) to return True\n```\n"
    },
    {
      "metadata": {
        "trusted": true
      },
      "cell_type": "code",
      "source": "# Step 3: Write tests. Similar to how we did it in the lab.\nprint (\"When day_of_week = 'Monday' we expect IsWeekend(day_of_week) to return False. Actual:\", IsWeekend('Monday'))\nprint (\"When day_of_week = 'Tuesday' we expect IsWeekend(day_of_week) to return False. Actual:\", IsWeekend('Tuesday'))\nprint (\"When day_of_week = 'Wednesday' we expect IsWeekend(day_of_week) to return False. Actual:\", IsWeekend('Wednesday'))\nprint (\"When day_of_week = 'Thursday' we expect IsWeekend(day_of_week) to return False. Actual:\", IsWeekend('Thursday'))\nprint (\"When day_of_week = 'Friday' we expect IsWeekend(day_of_week) to return False. Actual:\", IsWeekend('Friday'))\nprint (\"When day_of_week = 'Saturday' we expect IsWeekend(day_of_week) to return False. Actual:\", IsWeekend('Saturday'))\nprint (\"When day_of_week = 'Sunday' we expect IsWeekend(day_of_week) to return False. Actual:\", IsWeekend('Sunday'))",
      "execution_count": 15,
      "outputs": [
        {
          "output_type": "stream",
          "text": "When day_of_week = 'Monday' we expect IsWeekend(day_of_week) to return False. Actual: False\nWhen day_of_week = 'Tuesday' we expect IsWeekend(day_of_week) to return False. Actual: False\nWhen day_of_week = 'Wednesday' we expect IsWeekend(day_of_week) to return False. Actual: False\nWhen day_of_week = 'Thursday' we expect IsWeekend(day_of_week) to return False. Actual: False\nWhen day_of_week = 'Friday' we expect IsWeekend(day_of_week) to return False. Actual: False\nWhen day_of_week = 'Saturday' we expect IsWeekend(day_of_week) to return False. Actual: True\nWhen day_of_week = 'Sunday' we expect IsWeekend(day_of_week) to return False. Actual: True\n",
          "name": "stdout"
        }
      ]
    },
    {
      "metadata": {},
      "cell_type": "markdown",
      "source": "## Step 4: rewrite the program to use the function\n\nFinally re-write the original program, but call the function you made in step 2: \n"
    },
    {
      "metadata": {
        "trusted": true
      },
      "cell_type": "code",
      "source": "## Step 4: Write program here from the algorithm above\nday_of_week = input(\"What day of the week is it? \")\nholiday = input(\"Is it a holiday? \")\nif IsWeekend == True:\n    print(\"Go back to bed, it's the weekend\")\nelif holiday == \"Yes\":\n    print(\"Go back to bed, it's a holiday\")\nelse:\n    print(\"You need to get up!\")",
      "execution_count": 18,
      "outputs": [
        {
          "output_type": "stream",
          "name": "stdout",
          "text": "What day of the week is it? Monday\nIs it a holiday? Yes\nGo back to bed, it's a holiday\n"
        }
      ]
    },
    {
      "metadata": {},
      "cell_type": "markdown",
      "source": "## Step 6: Questions\n\n1. Provide 3 advantages for programming a user function in your code like `CircleArea`  or `CircleCircumfrence`\n\nUsing a function can make the program less time consuming to write, it can make the program easier to understand with less repetition, and it can save space.\n\n2. Why did we need to write 7 tests?\n\nWe need to write 7 tests to make sure that each day of the week, when entered, gives the appropriate output.\n\n3. Which code is easier to understand? Step 1 or step 4? Why? or Why not?\n\nStep 1 is easier to understand because it is more simple. Because the code we are replacing with the function is so simple, using the function is inefficient here. The one line of code for testing if the day is Saturday or Sunday is replaced with the five lines of code for the function. However, if we were using the user's input more than once, then step 4 would be easier to understand.\n\n4. What happens when you input `'sat'` for `'Saturday'` Does it work? How can the program be improved? Does improving it affect the readability of step 4? (HINT: Abstractions!!!)\n\nInputting \"sat\" for saturday doesn't work because the program doesn't recognize it as \"Saturday\" or \"Sunday\" and treats it as a weekday. It can be improved by being programmed to accept values such as \"sat\" and tell you if what you entered is not a day of the week. Improving it would not affect the readability of step 4 because those improvements would be added to the function in step 2."
    },
    {
      "metadata": {},
      "cell_type": "markdown",
      "source": "## Reminder of Evaluation Criteria\n\n1. What the problem attempted (analysis, code, and answered questions) ?\n2. What the problem analysis thought out? (does the program match the plan?)\n3. Does the code execute without syntax error?\n4. Does the code solve the intended problem?\n5. Is the code well written? (easy to understand, modular, and self-documenting, handles errors)\n"
    },
    {
      "metadata": {
        "collapsed": true,
        "trusted": false
      },
      "cell_type": "code",
      "source": "",
      "execution_count": null,
      "outputs": []
    }
  ],
  "metadata": {
    "anaconda-cloud": {},
    "kernelspec": {
      "name": "python3",
      "display_name": "Python 3",
      "language": "python"
    },
    "language_info": {
      "mimetype": "text/x-python",
      "nbconvert_exporter": "python",
      "name": "python",
      "pygments_lexer": "ipython3",
      "version": "3.5.4",
      "file_extension": ".py",
      "codemirror_mode": {
        "version": 3,
        "name": "ipython"
      }
    }
  },
  "nbformat": 4,
  "nbformat_minor": 1
}