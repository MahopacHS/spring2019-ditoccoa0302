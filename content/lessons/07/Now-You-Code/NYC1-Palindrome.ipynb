{
  "cells": [
    {
      "metadata": {},
      "cell_type": "markdown",
      "source": "# Now You Code 1: Palindrome Detector\n\nWrite a program to detect palindromes [https://en.wikipedia.org/wiki/Palindrome]. A palindrome is defined as a word or phrase which is the same in reverse. Here's some example's of one word palindromes:\n\n```\ndad\nwow\npop\nabba\nnoon\nkayak\nmadam\nsolos\nracecar\n```\n\nThere's several ways you accomplish this but we'd recommend using Python's extended slice notation as covered in the readings. It's by far the simplest method. \n\nThe final program should take input and return whether the text is or is not a palindrome until you enter `quit`.\n\nSample run of complete program:\n\n```\nEnter text or type `quit`: dad\n'dad' is a palindrome.\nEnter text or type `quit`: pappa\n'pappa' is not a palindrome.\nEnter text or type `quit`: quit\n```\n\nOnce again we will use the problem simplification technique to writing this program.\n\nFirst we will write the `isPalindrome(text)` function, then we will write the main program.\n"
    },
    {
      "metadata": {},
      "cell_type": "markdown",
      "source": "## Step 1: Problem Analysis for isPalindrome function only\n\nInputs: the word\n\nOutputs: true or false (palindrome)\n\nAlgorithm (Steps in Program):\n\n- input the word\n- set the word backwards to the characters in reverse order\n- if the word is equal to the word backwards: return true\n- otherwise, return false\n\n"
    },
    {
      "metadata": {
        "trusted": true
      },
      "cell_type": "code",
      "source": "## Step 2: todo write function definition here\ndef isPalindrome(word):\n    word_backwards = \"\"\n    for x in range(0, len(word)):\n        word_backwards = word[x] + word_backwards\n    if word == word_backwards:\n        return True\n    else:\n        return False",
      "execution_count": 3,
      "outputs": []
    },
    {
      "metadata": {
        "trusted": true
      },
      "cell_type": "code",
      "source": "## step 3: test the isPalindrome function to make sure it works:\nprint(\"Input:\", \"kayak\", \"Should be True, Actual Value:\", isPalindrome(\"kayak\") )\nprint(\"Input:\", \"mike\", \"Should be False, Actual Value:\", isPalindrome(\"mike\") )",
      "execution_count": 20,
      "outputs": [
        {
          "output_type": "stream",
          "text": "Input: kayak Should be True, Actual Value: True\nInput: mike Should be False, Actual Value: False\n",
          "name": "stdout"
        }
      ]
    },
    {
      "metadata": {},
      "cell_type": "markdown",
      "source": "## Step 4: Problem Analysis for full Program\n\nInputs: the word\n\nOutputs: whether or not it's a palindrome\n\nAlgorithm (Steps in Program):\n\n- input the word\n- if the isPalindrome function returns true: print that it's a palindrome\n- if it returns false: print that it's not a palindrome"
    },
    {
      "metadata": {
        "trusted": true
      },
      "cell_type": "code",
      "source": "## Step 5: todo write code for full problem, using the isPalindrome function to help you solve the problem\nwhile True:\n    word = input(\"Enter a word or type 'quit': \")\n    if word == \"quit\":\n        break\n    if isPalindrome(word) == True:\n        print (\"That's a palindrome\")\n    elif isPalindrome(word) == False:\n        print (\"That's not a palindrome\")",
      "execution_count": 4,
      "outputs": [
        {
          "output_type": "stream",
          "name": "stdout",
          "text": "Enter a word or type 'quit': level\nThat's a palindrome\nEnter a word or type 'quit': pickle\nThat's not a palindrome\nEnter a word or type 'quit': racecar\nThat's a palindrome\nEnter a word or type 'quit': quit\n"
        }
      ]
    },
    {
      "metadata": {},
      "cell_type": "markdown",
      "source": "## Step 6: Questions\n\n1. Did you use a loop inside your `isPalindrome` function? Can you think of a way to re-factor it without a loop?\n\nI used a loop inside the function to go through each letter of the word. I don't think there is a way to re-factor it without a loop unless there is some method in Python that allows you to reverse a word.\n\n2. How many tests are required in step 3?\n\nTwo tests are required: once for a palindrome, and once for a non-palindrome.\n\n3. What is the exit condition of the loop in the full program?\n\nThe exit condition is when the string entered is \"quit\"."
    },
    {
      "metadata": {},
      "cell_type": "markdown",
      "source": "## Reminder of Evaluation Criteria\n\n1. What the problem attempted (analysis, code, and answered questions) ?\n2. What the problem analysis thought out? (does the program match the plan?)\n3. Does the code execute without syntax error?\n4. Does the code solve the intended problem?\n5. Is the code well written? (easy to understand, modular, and self-documenting, handles errors)\n"
    },
    {
      "metadata": {
        "collapsed": true,
        "trusted": false
      },
      "cell_type": "code",
      "source": "",
      "execution_count": null,
      "outputs": []
    }
  ],
  "metadata": {
    "anaconda-cloud": {},
    "kernelspec": {
      "name": "python3",
      "display_name": "Python 3",
      "language": "python"
    },
    "language_info": {
      "mimetype": "text/x-python",
      "nbconvert_exporter": "python",
      "name": "python",
      "pygments_lexer": "ipython3",
      "version": "3.5.4",
      "file_extension": ".py",
      "codemirror_mode": {
        "version": 3,
        "name": "ipython"
      }
    }
  },
  "nbformat": 4,
  "nbformat_minor": 1
}