{
  "cells": [
    {
      "metadata": {},
      "cell_type": "markdown",
      "source": "# Now You Code 2: Is That An Email Address?\n\nLet's use Python's built-in string functions to write our own function to detect if a string is an email address. \n\nThe function `isEmail(text)` should return `True` when `text` is an email address, `False` otherwise.  \n\nFor simplicity's sake we will define an email address to be any string with just ONE `@` symbol in it, where the `@` is not at the beginning or end of the string. So `a@b` is considered an email (even though it really isn't).\n\nThe program should detect emails until you enter quit. \n\nSample run:\n```\nEmail address detector. Type quit to exit. \nEmail: mafudge@syr.edu\nmafudge@syr.edu ==> email\nEmail: mafudge@\nmafudge@ ==> NOT EMAIL\nEmail: mafudge\nmafudge ==> NOT EMAIL\nEmail: @syr.edu\n@syr.edu ==> NOT EMAIL\nEmail: @\n@ ==> NOT EMAIL\nEmail: mafudge@@syr.edu\nmafudge@@syr.edu ==> NOT EMAIL\nEmail: mafudge@syr@edu\nmafudge@syr@edu ==> NOT EMAIL\n```\n\nOnce again we will use the problem simplification technique to writing this program.\n\nFirst we will write the `isEmail(text)` function, then we will write the main program.\n"
    },
    {
      "metadata": {},
      "cell_type": "markdown",
      "source": "## Step 1: Problem Analysis for isEmail function only\n\nInputs (function arguments): a string\n\nOutputs (what is returns): true or false\n\nAlgorithm (Steps in Function): \n\n- if the string has one @ symbol:\n    - if the @ symbol is at position 0 or position -1: return false\n    - else: return true\n- else: return false\n\n\n"
    },
    {
      "metadata": {
        "trusted": true
      },
      "cell_type": "code",
      "source": "## Step 2: Todo write the function definition for isEmail functiuon\ndef isEmail(text):\n    if text.count('@') == 1:\n        if text[0] == \"@\" or text[-1] == \"@\":\n            return False\n        else:\n            return True\n    else:\n        return False",
      "execution_count": 1,
      "outputs": []
    },
    {
      "metadata": {
        "trusted": true
      },
      "cell_type": "code",
      "source": "## Step 3: Write some tests, to ensure the function works, for example\n## Make sure to test all cases!\nprint(\"WHEN text=mike@syr.edu We EXPECT isEmail(text) to return True\", \"ACTUAL\", isEmail(\"mike@syr.edu\") )\nprint(\"WHEN text=mike@ We EXPECT isEmail(text) to return False\", \"ACTUAL\", isEmail(\"mike@\") )\nprint(\"The text '@mike' should return False. Actual:\", isEmail(\"@mike\"))\nprint(\"The text 'mi@@ke' should return False. Actual:\", isEmail(\"mi@@ke\"))\nprint(\"The text 'mi@k@e' should return False. Actual:\", isEmail(\"mi@k@e\"))\nprint(\"The text 'mike' should return False. Actual:\", isEmail(\"mike\"))",
      "execution_count": 2,
      "outputs": [
        {
          "output_type": "stream",
          "text": "WHEN text=mike@syr.edu We EXPECT isEmail(text) to return True ACTUAL True\nWHEN text=mike@ We EXPECT isEmail(text) to return False ACTUAL False\nThe text '@mike' should return False. Actual: False\nThe text 'mi@@ke' should return False. Actual: False\nThe text 'mi@k@e' should return False. Actual: False\nThe text 'mike' should return False. Actual: False\n",
          "name": "stdout"
        }
      ]
    },
    {
      "metadata": {},
      "cell_type": "markdown",
      "source": "## Step 4: Problem Analysis for full Program\n\nInputs: the string\n\nOutputs: whether the string is an email address\n\nAlgorithm (Steps in Program):\n\n- input the text\n- if the text is 'quit': quit\n- if isEmail returns True: \n    - print that it's an email address\n- if isEmail returns False\n    - print that it's not an email address\n"
    },
    {
      "metadata": {
        "trusted": true
      },
      "cell_type": "code",
      "source": "## Step 5: todo write code for full problem, using the isEmail function to help you solve the problem\nwhile True:\n    text = input(\"Enter text or type 'quit': \")\n    if text == \"quit\":\n        break\n    if isEmail(text) == True:\n        print(\"That is an email address\")\n    elif isEmail(text) == False:\n        print(\"That is not an email address\")",
      "execution_count": 5,
      "outputs": [
        {
          "output_type": "stream",
          "name": "stdout",
          "text": "Enter text or type 'quit': qwerty@uiop\nThat is an email address\nEnter text or type 'quit': @asdfgh\nThat is not an email address\nEnter text or type 'quit': 8888888@@88888\nThat is not an email address\nEnter text or type 'quit': abc@d@efg\nThat is not an email address\nEnter text or type 'quit': 1234\nThat is not an email address\nEnter text or type 'quit': jjjjjjj@\nThat is not an email address\nEnter text or type 'quit': quit\n"
        }
      ]
    },
    {
      "metadata": {},
      "cell_type": "markdown",
      "source": "## Step 6: Questions\n\n1. How many test cases should you have in step 3 to ensure you've tested all the cases?\n\n6 times:\n- a proper email address\n- the @ symbol is at the beginning\n- the @ symbol is at the end\n- more than one @ symbol\n- more than one @ symbol separated\n- no @ symbol\n\n--\n2. What should kind of logic should we add to make our `isEmail` function even better, so that is detects emails more accurately?\nWe should add a way to detect periods that come after the @ symbol. The @ symbol and the period should also not be consecutive."
    },
    {
      "metadata": {},
      "cell_type": "markdown",
      "source": "## Reminder of Evaluation Criteria\n\n1. What the problem attempted (analysis, code, and answered questions) ?\n2. What the problem analysis thought out? (does the program match the plan?)\n3. Does the code execute without syntax error?\n4. Does the code solve the intended problem?\n5. Is the code well written? (easy to understand, modular, and self-documenting, handles errors)\n"
    },
    {
      "metadata": {
        "collapsed": true,
        "trusted": false
      },
      "cell_type": "code",
      "source": "",
      "execution_count": null,
      "outputs": []
    }
  ],
  "metadata": {
    "anaconda-cloud": {},
    "kernelspec": {
      "name": "python3",
      "display_name": "Python 3",
      "language": "python"
    },
    "language_info": {
      "mimetype": "text/x-python",
      "nbconvert_exporter": "python",
      "name": "python",
      "file_extension": ".py",
      "version": "3.5.4",
      "pygments_lexer": "ipython3",
      "codemirror_mode": {
        "version": 3,
        "name": "ipython"
      }
    }
  },
  "nbformat": 4,
  "nbformat_minor": 1
}