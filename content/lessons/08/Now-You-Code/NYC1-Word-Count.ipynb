{
  "cells": [
    {
      "metadata": {},
      "cell_type": "markdown",
      "source": "# Now You Code 1: Word Count\n\nLet's write a program which takes a file name as input, counts the number of words in the file, then outputs the word count.\n\nThe program should handle `FileNotFoundError` as an exception in case you enter a file that does not exist.\n\nSample Run #1:\n\n```\nWord Count!\nEnter Filename: NYC1-romeo.txt\nThere are 33 words in NYC1-romeo.txt\n```\n\nSample Run #2:\n\n```\nWord Count!\nEnter Filename: testing\nFile Not Found: testing\n```\nTry these files:\n\n- `NYC1-cant-stop-the-feeling.txt`\n- `NYC1-preamble.txt`\n- `NYC1-romeo.txt` or \n- `NYC1-zork.txt`\n\n\n**HINT**: Read in the file a line at a time, then split the line into words and count each word... and remember your algorithm does not need to account for exceptions... those are programming concerns!\n"
    },
    {
      "metadata": {
        "collapsed": true
      },
      "cell_type": "markdown",
      "source": "## Step 1: Problem Analysis\n\nInputs: A filename\n\nOutputs: The word count\n\nAlgorithm (Steps in Program):\n\n- set total words to 0\n- input filename\n- open the file for reading\n- for all lines:\n    - split the line into words using \" \" as a delimiter\n    - add the amount of words here (items in the returned list) to the total amount of words\n- print word count"
    },
    {
      "metadata": {
        "trusted": true
      },
      "cell_type": "code",
      "source": "## Step 2: write code here\ntotal_words = 0\nfilename = input(\"Enter a file: \")\ntry:\n    with open (filename, \"r\") as f:\n        for line in f.readlines():\n            line = line.split(\" \")\n            total_words = total_words + len(line)\n    print(\"There are\", total_words, \"words in the file\", filename)\nexcept:\n    print(\"The file '%s' was not found.\" % filename)",
      "execution_count": 1,
      "outputs": [
        {
          "output_type": "stream",
          "name": "stdout",
          "text": "Enter a file: NYC1-no-words.txt\nThere are 0 words in the file NYC1-no-words.txt\n"
        }
      ]
    },
    {
      "metadata": {
        "collapsed": true
      },
      "cell_type": "markdown",
      "source": "## Step 3: Questions\n\n1. Where are these files located? Make your own file, add words to it then run with the word count program.\n\nThese files are located in the Now-You-Code folder.\n\n2. Explain a strategy for mkaing this program  smarter so that it does not include puncutuation in the word counts?\n\nWe can make this program do that by using line.replace to get rid of all punctuation marks before splitting the string into individual words.\n\n3. Is it possible to have a file with a word count of 0? Explain.\n\nYes, it's possible. If a file is blank, the program won't find any lines to read and won't increase the number of total lines."
    },
    {
      "metadata": {},
      "cell_type": "markdown",
      "source": "## Reminder of Evaluation Criteria\n\n1. What the problem attempted (analysis, code, and answered questions) ?\n2. What the problem analysis thought out? (does the program match the plan?)\n3. Does the code execute without syntax error?\n4. Does the code solve the intended problem?\n5. Is the code well written? (easy to understand, modular, and self-documenting, handles errors)\n"
    },
    {
      "metadata": {
        "trusted": false
      },
      "cell_type": "code",
      "source": "",
      "execution_count": null,
      "outputs": []
    }
  ],
  "metadata": {
    "anaconda-cloud": {},
    "kernelspec": {
      "name": "python3",
      "display_name": "Python 3",
      "language": "python"
    },
    "language_info": {
      "mimetype": "text/x-python",
      "nbconvert_exporter": "python",
      "name": "python",
      "pygments_lexer": "ipython3",
      "version": "3.5.4",
      "file_extension": ".py",
      "codemirror_mode": {
        "version": 3,
        "name": "ipython"
      }
    }
  },
  "nbformat": 4,
  "nbformat_minor": 1
}