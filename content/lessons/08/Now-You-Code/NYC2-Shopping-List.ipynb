{
  "cells": [
    {
      "metadata": {},
      "cell_type": "markdown",
      "source": "# Now You Code 2: Shopping List\n\nWrite a program to input a list of grocery items for your shopping list and then writes them to a file a line at a time.  The program should keep asking you to enter grocery items until you type `'done'`.\n\nAfter you complete the list, the program should then load the file and read the list back to you by printing each item out.\n\nSample Run:\n\n```\nLet's make a shopping list. Type 'done' when you're finished:\nEnter Item: milk\nEnter Item: cheese\nEnter Item: eggs\nEnter Item: beer\nEnter Item: apples\nEnter Item: done\nYour shopping list:\nmilk\ncheese\neggs\nbeer\napples\n```\n"
    },
    {
      "metadata": {
        "collapsed": true
      },
      "cell_type": "markdown",
      "source": "## Step 1: Problem Analysis\n\nInputs: food items or 'done'\n\nOutputs: a file with all entered items on it, and the list read from that file\n\nAlgorithm (Steps in Program):\n- open file for writing\n    - loop indefinitely\n        - input a food item as a string\n        - if the string is 'done', break the loop\n        - append the item onto the file\n- print \"your shopping list:\"\n- open file for reading\n    - print every line in the file\n        \n"
    },
    {
      "metadata": {
        "trusted": true
      },
      "cell_type": "code",
      "source": "filename = \"NYC2-shopping-list.txt\"\nwith open (filename, 'w') as file:\n    while True:\n        food = input(\"Enter a food item or type 'done': \")\n        if food == \"done\":\n            break\n        file.write(food + '\\n')\nprint(\"Your shopping list:\")\nwith open (filename, 'r') as file:\n    for line in file.readlines():\n        print(line.replace('\\n', ''))",
      "execution_count": 6,
      "outputs": [
        {
          "output_type": "stream",
          "name": "stdout",
          "text": "Enter a food item or type 'done': borgar\nEnter a food item or type 'done': french fries\nEnter a food item or type 'done': sandwiches\nEnter a food item or type 'done': bepsi\nEnter a food item or type 'done': done\nYour shopping list:\nborgar\nfrench fries\nsandwiches\nbepsi\n"
        }
      ]
    },
    {
      "metadata": {
        "trusted": true
      },
      "cell_type": "code",
      "source": "",
      "execution_count": null,
      "outputs": []
    },
    {
      "metadata": {
        "collapsed": true
      },
      "cell_type": "markdown",
      "source": "## Step 3: Refactoring\n\nRefactor the part of your program which reads the shopping list from the file into a separate user-defined function called `readShoppingList` \nre-write your program to use this function.\n\n## ReadShoppingList function\n\nInputs: the file with lines on it\n\nOutputs: list of food items\n\nAlgorithm (Steps in Program):\n- open file for reading\n    - for each line in the file\n        - append the line onto the list\n- return list of items"
    },
    {
      "metadata": {
        "trusted": true
      },
      "cell_type": "code",
      "source": "## Step 4: Write program again with refactored code.\ndef readShoppingList():\n    shoppingList = []\n    with open (filename, 'r') as file:\n        for line in file.readlines():\n            shoppingList.append(line.strip('\\n'))\n    return shoppingList\n\nfilename = \"NYC2-shopping-list.txt\"\nwith open (filename, 'w') as file:\n    while True:\n        food = input(\"Enter a food item or type 'done': \")\n        if food == \"done\":\n            break\n        file.write(food + '\\n')\nprint(\"Your shopping list:\")\nshoppingList = readShoppingList()\nfor item in shoppingList:\n    print(item)",
      "execution_count": 3,
      "outputs": [
        {
          "output_type": "stream",
          "name": "stdout",
          "text": "Enter a food item or type 'done': detos\nEnter a food item or type 'done': dr. thunder\nEnter a food item or type 'done': thanos chips\nEnter a food item or type 'done': done\nYour shopping list:\ndetos\ndr. thunder\nthanos chips\n"
        }
      ]
    },
    {
      "metadata": {},
      "cell_type": "markdown",
      "source": "## Step 5: Questions\n\n1. Is the refactored code in step 4 easier to read? Why or why not?\n\nI think the refactored code in step 4 isn't easier to read because it has an extra step. Instead of printing the items directly as it reads the file, the function puts these items on a list, which is then sent to the main program which prints each item in the list.\n\n2. Explain how this program could be refarctored further (there's one thing that's obvious).\n\nIt can be refactored further by taking the process of writing to the shopping list and turning it into a function.\n\n3. Describe how this program can be modified to support multiple shopping lists?\n\nThe program can support multiple shopping lists if it lets the user choose which file to access instead of only accessing one file. This can be done by setting the filename variable to whatever the user inputs instead of a specific file. We would also have to use try and except to handle FileNotFoundErrors."
    },
    {
      "metadata": {},
      "cell_type": "markdown",
      "source": "## Reminder of Evaluation Criteria\n\n1. What the problem attempted (analysis, code, and answered questions) ?\n2. What the problem analysis thought out? (does the program match the plan?)\n3. Does the code execute without syntax error?\n4. Does the code solve the intended problem?\n5. Is the code well written? (easy to understand, modular, and self-documenting, handles errors)\n"
    }
  ],
  "metadata": {
    "anaconda-cloud": {},
    "kernelspec": {
      "name": "python3",
      "display_name": "Python 3",
      "language": "python"
    },
    "language_info": {
      "mimetype": "text/x-python",
      "nbconvert_exporter": "python",
      "name": "python",
      "pygments_lexer": "ipython3",
      "version": "3.5.4",
      "file_extension": ".py",
      "codemirror_mode": {
        "version": 3,
        "name": "ipython"
      }
    }
  },
  "nbformat": 4,
  "nbformat_minor": 1
}