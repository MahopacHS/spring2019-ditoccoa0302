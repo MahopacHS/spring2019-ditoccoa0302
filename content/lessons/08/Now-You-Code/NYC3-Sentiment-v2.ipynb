{
  "cells": [
    {
      "metadata": {},
      "cell_type": "markdown",
      "source": "# Now You Code 3: Sentiment v2.0\n\nLet's write a better version of the basic sentiment analyzer in Python. Instead of using a string of words, this example will read a list of words positive and negative words from a file.\n\nIn fact, we've included two files for you so you don't have to some up with the positive and negative words! Just load the files and go! Of course if you want more positive and negative words you can always edit the files.\n\n- Positive words are in `NYC3-pos.txt`\n- Negative words are in `NYC3-neg.txt`\n\nYou will have to write a function called `LoadWords(filename)` to read the words from the file and load them into a string.\n\n## Step 1: Problem Analysis for function\n\nInput (function arguments): `filename` to read.\nOutput (function returns): a `text` string of words as loaded from the file.\n\nAlgorithm:\n\n```\nopen the filename for reading\n    read the entire file all at once, into text\n    return the text\n```\n"
    },
    {
      "metadata": {
        "trusted": true
      },
      "cell_type": "code",
      "source": "## Step 2: Write the LoadWords(filename) function\ndef LoadWords(filename):\n    with open (filename, 'r') as file:\n        for line in file:\n            line = line.split(' ')\n            return line",
      "execution_count": 1,
      "outputs": []
    },
    {
      "metadata": {
        "trusted": true
      },
      "cell_type": "code",
      "source": "## Quick test of your LoadWords() function\npos = LoadWords(\"NYC3-pos.txt\")\nneg = LoadWords(\"NYC3-neg.txt\")\nprint(\"POSITIVE WORD LIST:\",pos)\nprint(\"NEGATIVE WORD LIST:\", neg)",
      "execution_count": 13,
      "outputs": [
        {
          "output_type": "stream",
          "text": "POSITIVE WORD LIST: ['good', 'love', 'like', 'great', 'wonderful', 'fast', 'helpful', 'smart', 'friendly', 'happy', 'joy']\nNEGATIVE WORD LIST: ['bad', 'hate', 'dislike', 'horrible', 'stinks', 'awful', 'slow', 'clueless', 'useless', 'dumb', 'sad']\n",
          "name": "stdout"
        }
      ]
    },
    {
      "metadata": {},
      "cell_type": "markdown",
      "source": "## Step 3: The Final Program\n  \nNow write a program which allows you to enter text and then analyzes the sentiment of the text by printing a score. The program should keep analyzing text input until you enter \"quit\".\n\nSample Run\n\n```\nSentiment Analyzer 1.0\nType 'quit' to exit.\nEnter Text: i love a good book from amazon\n2 positive.\nEnter Text: i hate amazon their service makes me angry\n-2 negative.\nEnter Text: i love to hate amazon\n0 neutral.\nEnter Text: quit\n```\n\n### 3.a Problem Analysis\n\nInput: text which has either positive or negative words in it\n\nOutput: a score based on how many positive or negative words it has\n\nAlgorithm:\n- set positive word list to LoadWords's output of the positive file\n- set negative word list to LoadWords's output of the negative file\n- loop indefinitely:\n    - input the text or 'quit'\n    - if the text is 'quit' stop looping\n    - strip punctuation from text and make it lowercase\n    - split text into list of words using space as the delimiter\n    - for each item in the list:\n        - if the word is in the positive word list, increase score by 1\n        - if the word is in the negative word list, decrease score by 1\n    - print the final score\n    - if the final score is positive print 'positive'\n    - if it's negative print 'negative'\n    - if it's 0 print 'neutral'"
    },
    {
      "metadata": {
        "trusted": true
      },
      "cell_type": "code",
      "source": "## 3.b Write solution here, use Load Words to help you read in the pos and neg words.\npos = LoadWords(\"NYC3-pos.txt\")\nneg = LoadWords(\"NYC3-neg.txt\")\nprint(\"Sentiment Analyzer v0.0.0.0.1\\nType 'quit' to exit\")\nwhile True:\n    score = 0\n    text = input(\"Enter text here: \")\n    if text == 'quit':\n        break\n    text = text.lower()\n    text = text.replace('.','').replace(',','').replace('?','').replace('!','').replace('(','').replace(')','')\n    text = text.split(' ')\n    for word in text:\n        if word in pos:\n            score = score + 1\n        if word in neg:\n            score = score - 1\n    if score > 0:\n        print(\"%d, positive\" % score)\n    elif score < 0:\n        print(\"%d, negative\" % score)\n    else:\n        print(\"%d, neutral\" % score)",
      "execution_count": 3,
      "outputs": [
        {
          "output_type": "stream",
          "text": "Sentiment Analyzer v0.0.0.0.1\nType 'quit' to exit\nEnter text here: i LOVE fortnite its such a good game its EPIC it has COOL characters like john wick and thanos\n3, positive\nEnter text here: fortnite is SO BAD! its the worst game EVER ITS SO DUMB!!!!!! I HAtE FORTNITE >:(\n-3, negative\nEnter text here: fortnite has good graphics but bad everything else\n0, neutral\nEnter text here: quit\n",
          "name": "stdout"
        }
      ]
    },
    {
      "metadata": {},
      "cell_type": "markdown",
      "source": "## Step 4: Questions\n\n1. This is a better solution than sentiment 1.0. Why?\n\nWe didn't do sentiment 1.0.\n\n2. Execute the program and enter the following input: `i love! a GOOD book` What is the score and why? how can this issue be fixed?\n\nThe input still affects the score because I already removed common punctuation from the entered string and converted it to lowercase.\n\n3. Re-write your final solution to address the issues discovered in step 2."
    },
    {
      "metadata": {},
      "cell_type": "markdown",
      "source": "## Reminder of Evaluation Criteria\n\n1. What the problem attempted (analysis, code, and answered questions) ?\n2. What the problem analysis thought out? (does the program match the plan?)\n3. Does the code execute without syntax error?\n4. Does the code solve the intended problem?\n5. Is the code well written? (easy to understand, modular, and self-documenting, handles errors)\n"
    },
    {
      "metadata": {
        "trusted": true
      },
      "cell_type": "code",
      "source": "",
      "execution_count": null,
      "outputs": []
    }
  ],
  "metadata": {
    "anaconda-cloud": {},
    "kernelspec": {
      "name": "python3",
      "display_name": "Python 3",
      "language": "python"
    },
    "language_info": {
      "mimetype": "text/x-python",
      "nbconvert_exporter": "python",
      "name": "python",
      "pygments_lexer": "ipython3",
      "version": "3.5.4",
      "file_extension": ".py",
      "codemirror_mode": {
        "version": 3,
        "name": "ipython"
      }
    }
  },
  "nbformat": 4,
  "nbformat_minor": 1
}