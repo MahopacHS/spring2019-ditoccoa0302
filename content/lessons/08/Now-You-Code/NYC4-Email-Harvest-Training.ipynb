{
  "cells": [
    {
      "metadata": {},
      "cell_type": "markdown",
      "source": "# Now You Code 4: Email Harvest Training\n\nLet's teach you how to extract emails from text. This has a variety of applications the most common being buiding an email list.\nThe best way to find the emails in the mailbox file is to search for lines in the file that begin with \"From: (similar to what we did in the lab). When you find an email write just the email address (not \"From:\" and the address) to \"NYC4-emails.txt\", and don't worry about duplicates.\n\nThe program should print the number of emails it wrote to the file.\n\nExample Run:\n\n```\nWrote 27 emails to NYC4-emails.txt\n```"
    },
    {
      "metadata": {},
      "cell_type": "markdown",
      "source": "## Step 1: Problem Analysis\n\nInput: (No user input, but we do read from the file `NYC4-emails.txt`\n\nOutput (The number of emails collected from the file, and a new file `NYC4-emails.txt` with one email per line.\n\nAlgorithm:\n- open mbox-short for reading\n    - for each line\n        - if the line begins with \"From:\"\n            - append the email address (with \"From:\" stripped) to a list of addresses\n- open emails for writing\n    - for each item in list\n        - write item to emails\n- print the length of the list"
    },
    {
      "metadata": {
        "trusted": true
      },
      "cell_type": "code",
      "source": "## Step 2: Write the code\nemails = []\nfilename = \"NYC4-mbox-short.txt\"\nwith open (filename, \"r\") as file:\n    for line in file.readlines():\n        if line.startswith(\"From:\"):\n            emails.append(line.strip(\"From: \"))\nfilename = \"NYC4-emails.txt\"\nwith open (filename, \"w\") as file:\n    for address in emails:\n        file.write(address)\nprint(\"Wrote %d emails to %s\" % (len(emails), filename))",
      "execution_count": 13,
      "outputs": [
        {
          "output_type": "stream",
          "text": "Wrote 27 emails to NYC4-emails.txt\n",
          "name": "stdout"
        }
      ]
    },
    {
      "metadata": {
        "trusted": true
      },
      "cell_type": "code",
      "source": "## Step 3: Write a program to read the emails from NYC4-emails.txt and print them to the console\nfilename = \"NYC4-emails.txt\"\nwith open (filename, \"r\") as file:\n    for line in file.readlines():\n        print(line.strip(\"\\n\"))",
      "execution_count": 16,
      "outputs": [
        {
          "output_type": "stream",
          "text": "stephen.marquard@uct.ac.za\nlouis@media.berkeley.edu\nzqian@umich.edu\njlowe@iupui.edu\nzqian@umich.edu\njlowe@iupui.edu\ncwen@iupui.edu\ncwen@iupui.edu\ngsilver@umich.edu\ngsilver@umich.edu\nzqian@umich.edu\ngsilver@umich.edu\nwagnermr@iupui.edu\nzqian@umich.edu\nantranig@caret.cam.ac.uk\ngopal.ramasammycook@gmail.com\ndavid.horwitz@uct.ac.za\ndavid.horwitz@uct.ac.za\ndavid.horwitz@uct.ac.za\ndavid.horwitz@uct.ac.za\nstephen.marquard@uct.ac.za\nlouis@media.berkeley.edu\nlouis@media.berkeley.edu\nay@media.berkeley.edu\ncwen@iupui.edu\ncwen@iupui.edu\ncwen@iupui.edu\n",
          "name": "stdout"
        }
      ]
    },
    {
      "metadata": {},
      "cell_type": "markdown",
      "source": "## Step 4: Questions\n\n1. Does this code actually \"detect\" emails? How does it find emails in the text?\n\nThe code doesn't actually detect emails. It just finds email addresses by reading the text that comes after \"From:\".\n\n2. Explain how this program can be improved to prompt for an email file at to process runtime?\n\nInstead of setting the filename to NYC4-mbox-short.txt, I would use an input statement to allow the user to enter the filename.\n\n3. Devise an approach to remove duplicate emails from the output file. You don't have to write as code, just explain it.\n\nInstead of appending the email address to the list for every line, I would use a conditional statement. I would only add on to the list of emails if the email it reads doesn't match any of the other emails in the list."
    },
    {
      "metadata": {},
      "cell_type": "markdown",
      "source": "## Reminder of Evaluation Criteria\n\n1. What the problem attempted (analysis, code, and answered questions) ?\n2. What the problem analysis thought out? (does the program match the plan?)\n3. Does the code execute without syntax error?\n4. Does the code solve the intended problem?\n5. Is the code well written? (easy to understand, modular, and self-documenting, handles errors)\n"
    },
    {
      "metadata": {
        "trusted": false
      },
      "cell_type": "code",
      "source": "",
      "execution_count": null,
      "outputs": []
    }
  ],
  "metadata": {
    "anaconda-cloud": {},
    "kernelspec": {
      "name": "python3",
      "display_name": "Python 3",
      "language": "python"
    },
    "language_info": {
      "mimetype": "text/x-python",
      "nbconvert_exporter": "python",
      "name": "python",
      "pygments_lexer": "ipython3",
      "version": "3.5.4",
      "file_extension": ".py",
      "codemirror_mode": {
        "version": 3,
        "name": "ipython"
      }
    }
  },
  "nbformat": 4,
  "nbformat_minor": 1
}