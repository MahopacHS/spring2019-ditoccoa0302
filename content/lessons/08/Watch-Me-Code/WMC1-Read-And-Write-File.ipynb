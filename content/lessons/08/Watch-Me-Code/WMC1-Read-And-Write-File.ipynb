{
  "cells": [
    {
      "metadata": {},
      "cell_type": "markdown",
      "source": "# Watch Me Code 1: Read and Write Message\n\nA simple example of reading and writing to a file.\n"
    },
    {
      "metadata": {
        "collapsed": true,
        "trusted": false
      },
      "cell_type": "code",
      "source": "filename = \"WMC1-Message.txt\"",
      "execution_count": 4,
      "outputs": []
    },
    {
      "metadata": {
        "trusted": false
      },
      "cell_type": "code",
      "source": "# Let's write to the file!\nmessage = input(\"Type a message and I'll write it to %s:\" % filename)\nwith open (filename,'w') as file_out:\n    file_out.write(message)\n    \nprint(\"Done!\")",
      "execution_count": 5,
      "outputs": [
        {
          "name": "stdout",
          "output_type": "stream",
          "text": "Type a message and I'll write it to WMC1-Message.txt:demo\nDone!\n"
        }
      ]
    },
    {
      "metadata": {
        "trusted": false
      },
      "cell_type": "code",
      "source": "with open(filename, 'r') as file_in:\n    message = file_in.read()\n    \nprint(\"Here's the message in %s:  %s\" % (filename, message))",
      "execution_count": 6,
      "outputs": [
        {
          "name": "stdout",
          "output_type": "stream",
          "text": "Here's the message in WMC1-Message.txt:  demo\n"
        }
      ]
    },
    {
      "metadata": {},
      "cell_type": "markdown",
      "source": "NOTE: Show this is really persistent. \n\n- open wmc1.txt from outside Jupyter.\n- edit the message. Re-run the 2nd example. "
    },
    {
      "metadata": {
        "trusted": false
      },
      "cell_type": "code",
      "source": "\ndef put_text_in_file(text):\n    with open(\"test-messages.txt\", 'a', encoding='utf-8') as dog:\n        dog.write(text + \"\\n\")\n    \ndef get_text_out_file():\n    with open(\"test-messages.txt\", 'r') as file:\n        contents = []\n        for line in file:\n            contents.append(line.strip())\n    return contents\n\nwhile True:\n    user_input = input(\"Please enter a message (Enter to view all messages)\")\n    if user_input == '':\n        break\n    put_text_in_file(user_input)\n\nmessages = get_text_out_file()\nprint(\", \".join(messages))\n\n    \n    \n",
      "execution_count": 8,
      "outputs": [
        {
          "name": "stdout",
          "output_type": "stream",
          "text": "Please enter a message (Enter to view all messages)hello\nPlease enter a message (Enter to view all messages)your are cool\nPlease enter a message (Enter to view all messages)this is a great program!!\nPlease enter a message (Enter to view all messages)\nThis is a messageThis is a messageThis is a message, This is a message, , This is a message, hello, your are cool, this is a great program!!\n"
        }
      ]
    },
    {
      "metadata": {
        "collapsed": true,
        "trusted": false
      },
      "cell_type": "code",
      "source": "",
      "execution_count": null,
      "outputs": []
    }
  ],
  "metadata": {
    "anaconda-cloud": {},
    "kernelspec": {
      "name": "python3",
      "display_name": "Python 3",
      "language": "python"
    },
    "language_info": {
      "mimetype": "text/x-python",
      "nbconvert_exporter": "python",
      "name": "python",
      "pygments_lexer": "ipython3",
      "version": "3.5.4",
      "file_extension": ".py",
      "codemirror_mode": {
        "version": 3,
        "name": "ipython"
      }
    }
  },
  "nbformat": 4,
  "nbformat_minor": 1
}