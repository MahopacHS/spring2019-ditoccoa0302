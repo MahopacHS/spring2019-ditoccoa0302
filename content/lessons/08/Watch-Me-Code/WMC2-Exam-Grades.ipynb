{
  "cells": [
    {
      "metadata": {},
      "cell_type": "markdown",
      "source": "# Watch Me Code 2: Exam Grades\n\nA simple example of reading and writing multiple lines of data to a file.\n"
    },
    {
      "metadata": {
        "trusted": false
      },
      "cell_type": "code",
      "source": "from os import path\n\nfilename = path.join(\"relativefolder\", \"WMC2-Grades.txt\")\nprint(filename)\n# Let's input a bunch of grades and write them to a file:\ncount = 0\n\nwith open(filename, 'w', encoding=\"utf-8\") as in_file:\n    while True:\n        grade = input(\"Please enter a grade or type 'q' to quit: \")\n        if grade == 'q':\n            break\n        in_file.write(grade + \"\\n\")\n        count = count + 1\n    \nprint(\"%d grades entered\" % count)\n\nwith open(filename, 'r', encoding=\"utf-8\") as out_file:\n    grades = []\n    for line in out_file:\n        grades.append(int(line))\n    average = sum(grades)/len(grades)\n    print(\"Average is %d\" % average)\n    \n\n        \n\n    \n",
      "execution_count": null,
      "outputs": [
        {
          "name": "stdout",
          "output_type": "stream",
          "text": "relativefolder\\WMC2-Grades.txt\n"
        }
      ]
    },
    {
      "metadata": {
        "trusted": false
      },
      "cell_type": "code",
      "source": "# read them in\ncount = 0\ntotal = 0\nwith open(filename,'r') as inf:\n    for line in inf.readlines():\n        grade = float(line)\n        total = total + grade\n        count = count + 1\nprint(\"Read in %s grades. Average is %.2f\" % (count, total/count))",
      "execution_count": 16,
      "outputs": [
        {
          "name": "stdout",
          "output_type": "stream",
          "text": "Read in 5 grades. Average is 84.00\n"
        }
      ]
    },
    {
      "metadata": {},
      "cell_type": "markdown",
      "source": "NOTE: Show this is really persistent. \n\n- open wmc1.txt from outside Jupyter.\n- edit the message. Re-run the 2nd example. "
    },
    {
      "metadata": {
        "collapsed": true,
        "trusted": false
      },
      "cell_type": "code",
      "source": "",
      "execution_count": null,
      "outputs": []
    }
  ],
  "metadata": {
    "anaconda-cloud": {},
    "kernelspec": {
      "name": "python3",
      "display_name": "Python 3",
      "language": "python"
    },
    "language_info": {
      "mimetype": "text/x-python",
      "nbconvert_exporter": "python",
      "name": "python",
      "pygments_lexer": "ipython3",
      "version": "3.5.4",
      "file_extension": ".py",
      "codemirror_mode": {
        "version": 3,
        "name": "ipython"
      }
    }
  },
  "nbformat": 4,
  "nbformat_minor": 1
}