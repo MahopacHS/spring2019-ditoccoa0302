{
  "cells": [
    {
      "metadata": {},
      "cell_type": "markdown",
      "source": "# Now You Code 1: Funny Names\n\nWrite a program to \n\n 1. read the file `NYC1-funnynames.txt` into a list, by completing the provided user-defined function\n 2. sort the list of names\n 3. print the list of names one name per line.\n\nSample Program Output:\n```\nAlma Frienzergon\nKent Belevit\nMitch Again\nOliver Stuffismisson\nSandi Shores\nSarah Bellum\nWillie Pas-D'course\nYolanda Ismyland\n```\n"
    },
    {
      "metadata": {},
      "cell_type": "markdown",
      "source": "## Step 1: Problem Analysis for `read_names` user-defined function\n\nInputs: None\n\nOutputs: a list of names\n\nAlgorithm (Steps in Program):\n- open file for reading\n- for each line in the file\n    - if necessary remove \"\\n\"\n    - append line to list of names\n    \n\n"
    },
    {
      "metadata": {
        "trusted": true
      },
      "cell_type": "code",
      "source": "# Step 2: write function\n# this function reads from \"NYC-funnynames.txt\" places the names in a list.\n# program should return a list of names\ndef read_names():\n    names = []\n    #todo write code here\n    with open (\"NYC1-funnynames.txt\") as file:\n        for line in file.readlines():\n            names.append(line.strip(\"\\n\"))\n    return names",
      "execution_count": 12,
      "outputs": []
    },
    {
      "metadata": {
        "collapsed": true
      },
      "cell_type": "markdown",
      "source": "## Step 3: Problem Analysis for entire program\n\nInputs: List of names from function\n\nOutputs: Names in alphabetical order\n\nAlgorithm (Steps in Program):\n- retrieve list of names from function\n- sort list of names\n- for each name in list\n    - print name\n"
    },
    {
      "metadata": {
        "trusted": true
      },
      "cell_type": "code",
      "source": "## Step 4: write entire program making sure to use read_names \nnames = read_names()\nnames.sort()\nfor name in names:\n    print (name)",
      "execution_count": 17,
      "outputs": [
        {
          "output_type": "stream",
          "text": "Alma Frienzergon\nEuron Trouble\nKent Belevit\nMitch Again\nOliver Stuffismisson\nSandi Shores\nSarah Bellum\nWillie Pas-D'course\nYolanda Ismyland\n",
          "name": "stdout"
        }
      ]
    },
    {
      "metadata": {},
      "cell_type": "markdown",
      "source": "## Step 5: Questions\n\n1. Does writing the `read_names` function clarify the intent of the main program in step 4? Why or why not?\n\nWriting the function clarifies the intent of the main program because it separates the reading of the file from the alphabetical sorting of the names.\n\n2. Find the `NYC-funnynames.txt` file in your `lessons/09` folder. Open the file and add the name `Euron Trouble` to the file, then save and close it. Re-run the program in step 4. Do you see the new name in the program output? Explain why or why not? \n\nThe new name is in the program output because the program calls the function again, which rereads the file."
    },
    {
      "metadata": {},
      "cell_type": "markdown",
      "source": "## Reminder of Evaluation Criteria\n\n1. What the problem attempted (analysis, code, and answered questions) ?\n2. What the problem analysis thought out? (does the program match the plan?)\n3. Does the code execute without syntax error?\n4. Does the code solve the intended problem?\n5. Is the code well written? (easy to understand, modular, and self-documenting, handles errors)\n"
    },
    {
      "metadata": {
        "collapsed": true,
        "trusted": false
      },
      "cell_type": "code",
      "source": "",
      "execution_count": null,
      "outputs": []
    }
  ],
  "metadata": {
    "anaconda-cloud": {},
    "kernelspec": {
      "name": "python3",
      "display_name": "Python 3",
      "language": "python"
    },
    "language_info": {
      "mimetype": "text/x-python",
      "nbconvert_exporter": "python",
      "name": "python",
      "pygments_lexer": "ipython3",
      "version": "3.5.4",
      "file_extension": ".py",
      "codemirror_mode": {
        "version": 3,
        "name": "ipython"
      }
    }
  },
  "nbformat": 4,
  "nbformat_minor": 1
}