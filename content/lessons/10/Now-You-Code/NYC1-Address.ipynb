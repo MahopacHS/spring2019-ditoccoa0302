{
  "cells": [
    {
      "metadata": {},
      "cell_type": "markdown",
      "source": "# Now You Code 1: Address\n\nWrite a Python program to input elements of your postal address and then output them as if they were an address label. The program should use a dictionary to store the address and complete two function defintions one for inputting the address and one for printing the address.\n\n**NOTE:** While you most certainly can write this program without using dictionaries or functions, the point of the exercise is to get used to using them!!!\n\nSample Run:\n\n```\nEnter Street: 314 Hinds Hall\nEnter City: Syracuse\nEnter State: NY\nEnter Postal Zip Code: 13244\nMailing Address:\n314 Hinds Hall\nSyracuse , NY 13244\n\n```"
    },
    {
      "metadata": {},
      "cell_type": "markdown",
      "source": "## Step 1: Problem Analysis `input_address` function\n\nThis function should get input from the user at run time and return the input address.\n\nInputs: None (gets input from user)\n\nOutputs: a Python dictionary of address info (street, city, state, postal_code)\n\nAlgorithm (Steps in Program):\n\n- input home number / street and set it to key 'street'\n- input city and set it to key 'city'\n- input state and set it to key 'state'\n- input zipcode and put it to key 'zipcode'\n- return dictionary of address info\n"
    },
    {
      "metadata": {
        "trusted": true
      },
      "cell_type": "code",
      "source": "## Step 2: Write input_address_ function\n#input: None (inputs from console)\n#output: dictionary of the address\ndef input_address():\n    address= {}\n    # todo: write code here to input the street, city, state and zip code and add to dictionary at runtime and store in a dictionary\n    address['street'] = input(\"Enter address number and street: \")\n    address['city'] = input(\"Enter city: \")\n    address['state'] = input('Enter state: ')\n    address['zipcode'] = input('Enter postal zip code: ')\n    return address\n\n",
      "execution_count": 1,
      "outputs": []
    },
    {
      "metadata": {},
      "cell_type": "markdown",
      "source": "## Step 3: Problem Analysis `print_address` function\n\nThis function should display a mailing address using the dictionary variable\n\nInputs: dictionary variable of address into (street, city, state, postal_code)\n\nOutputs: None (prints to screen)\n\nAlgorithm (Steps in Program): print the address (can be done in one line with \\n)\n\n"
    },
    {
      "metadata": {
        "trusted": true
      },
      "cell_type": "code",
      "source": "## Step 4: write code\n# input: address dictionary\n# output: none (outputs to console)\ndef print_address(address):\n    # todo: write code to print the address (leave empty return at the end\n    print('Mailing address:\\n%s\\n%s, %s %s' % (address['street'], address['city'], address['state'], address['zipcode']))\n    return ",
      "execution_count": 5,
      "outputs": []
    },
    {
      "metadata": {},
      "cell_type": "markdown",
      "source": "## Step 5: Problem Analysis main program\n\nShould be trivial at this point. \n\nInputs: address info inputted in the input_address function\n\nOutputs: address printed in the print_address function\n\nAlgorithm (Steps in Program):\n- call the first function\n- then call the second"
    },
    {
      "metadata": {
        "trusted": true
      },
      "cell_type": "code",
      "source": "## Step 6: write main program, use other 2 functions you made to solve this problem.\n    \n# main program\n# todo: call input_address, then print_address\naddress = input_address()\nprint_address(address)\n",
      "execution_count": 6,
      "outputs": [
        {
          "output_type": "stream",
          "name": "stdout",
          "text": "Enter address number and street: 123 Sesame Street\nEnter city: Miami\nEnter state: MT\nEnter postal zip code: 09876\nMailing address:\n123 Sesame Street\nMiami, MT 09876\n"
        }
      ]
    },
    {
      "metadata": {},
      "cell_type": "markdown",
      "source": "## Step 7: Questions\n\n1. Explain a strategy for a situation when an expected dictionary key, like 'state' for example does not exist?\n\nIf a key may not exist, we can use the try and except statements that will print that the key does not exist instead of giving back an error.\n\n2. The program as it is written is not very useful. How can we make it more useful?\n\nWe can make the program more useful if we allowed the user to enter multiple addresses which would be stored in multiple dictionaries in a list."
    },
    {
      "metadata": {},
      "cell_type": "markdown",
      "source": "## Reminder of Evaluation Criteria\n\n1. What the problem attempted (analysis, code, and answered questions) ?\n2. What the problem analysis thought out? (does the program match the plan?)\n3. Does the code execute without syntax error?\n4. Does the code solve the intended problem?\n5. Is the code well written? (easy to understand, modular, and self-documenting, handles errors)\n"
    },
    {
      "metadata": {
        "collapsed": true,
        "trusted": false
      },
      "cell_type": "code",
      "source": "",
      "execution_count": null,
      "outputs": []
    }
  ],
  "metadata": {
    "anaconda-cloud": {},
    "kernelspec": {
      "name": "python3",
      "display_name": "Python 3",
      "language": "python"
    },
    "language_info": {
      "mimetype": "text/x-python",
      "nbconvert_exporter": "python",
      "name": "python",
      "file_extension": ".py",
      "version": "3.5.4",
      "pygments_lexer": "ipython3",
      "codemirror_mode": {
        "version": 3,
        "name": "ipython"
      }
    }
  },
  "nbformat": 4,
  "nbformat_minor": 1
}