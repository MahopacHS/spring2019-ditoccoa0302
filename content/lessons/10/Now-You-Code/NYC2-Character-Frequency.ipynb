{
  "cells": [
    {
      "metadata": {},
      "cell_type": "markdown",
      "source": "# Now You Code 2: Character Frequency\n\nWrite a program to input some text (a word or a sentence). The program should create a histogram of each character in the text and it's frequency. For example the text `apple` has a frequency `a:1, p:2, l:1, e:1`\n\nSome advice:\n\n- build a dictionary of each character where the character is the key and the value is the number of occurences of that character.\n- omit spaces, in the input text, and they cannot be represented as dictionary keys\n- convert the input text to lower case, so that `A` and `a` are counted as the same character.\n\nAfter you count the characters:\n- sort the dictionary keys alphabetically, \n- print out the character distribution\n\nExample Run:\n\n```\nEnter some text: Michael is a Man from Mississppi.\n. : 1\na : 3\nc : 1\ne : 1\nf : 1\nh : 1\ni : 5\nl : 1\nm : 4\nn : 1\no : 1\np : 2\nr : 1\ns : 5\n```\n"
    },
    {
      "metadata": {
        "collapsed": true
      },
      "cell_type": "markdown",
      "source": "## Step 1: Problem Analysis\n\nInputs: string\n\nOutputs: frequency of each character (besides space)\n\nAlgorithm (Steps in Program):\n- create empty dictionary\n- input the string\n- make string lowercase and remove spaces\n- for each character in the text, set its dictionary value to 0\n- for each character in the text, increase its dictionary value by one\n- sort the dictionary keys alphabetically\n- for each key, print the key and its corresponding value\n"
    },
    {
      "metadata": {
        "trusted": true
      },
      "cell_type": "code",
      "source": "## Step 2: Write code here\nfr = {}\ntext = input(\"Enter text: \")\ntext = text.lower().replace(' ','')\nfor char in text:\n    fr[char] = 0\nfor char in text:\n    fr[char] = fr[char] + 1\nfor key in sorted(fr.keys()):\n    print(key, ':', fr[key])",
      "execution_count": 6,
      "outputs": [
        {
          "output_type": "stream",
          "name": "stdout",
          "text": "Enter text: Perfectly balanced, as all things should be.\n, : 1\n. : 1\na : 4\nb : 2\nc : 2\nd : 2\ne : 4\nf : 1\ng : 1\nh : 2\ni : 1\nl : 5\nn : 2\no : 1\np : 1\nr : 1\ns : 3\nt : 2\nu : 1\ny : 1\n"
        }
      ]
    },
    {
      "metadata": {},
      "cell_type": "markdown",
      "source": "## Step 3: Questions\n\n1. Explain how you handled the situation where the dictionary key does not exist? (For instance the first time you encounter a character?)\n\nI made a first loop that goes through all the characters and sets their values to 0 to make sure all the dictionary keys exist when I increase them by 1.\n\n2. What happens when you just press `ENTER` as opposed to entering some actual text? What can be done about this to provide better feedback.\n\nThe program finishes without displaying anything. I could improve on this by printing that the string is empty if the dictionary is empty by the end of the program.\n\n3. This program is similar to the popular word cloud generators [http://www.wordclouds.com/] you can find on the Web. Describe how this program could be modified to count words instead of characters.\n\nI could split the string up into a list of words and then have the program go through the list of words instead of going through each character in the string."
    },
    {
      "metadata": {},
      "cell_type": "markdown",
      "source": "## Reminder of Evaluation Criteria\n\n1. What the problem attempted (analysis, code, and answered questions) ?\n2. What the problem analysis thought out? (does the program match the plan?)\n3. Does the code execute without syntax error?\n4. Does the code solve the intended problem?\n5. Is the code well written? (easy to understand, modular, and self-documenting, handles errors)\n"
    },
    {
      "metadata": {
        "collapsed": true,
        "trusted": false
      },
      "cell_type": "code",
      "source": "",
      "execution_count": null,
      "outputs": []
    }
  ],
  "metadata": {
    "anaconda-cloud": {},
    "kernelspec": {
      "name": "python3",
      "display_name": "Python 3",
      "language": "python"
    },
    "language_info": {
      "mimetype": "text/x-python",
      "nbconvert_exporter": "python",
      "name": "python",
      "pygments_lexer": "ipython3",
      "version": "3.5.4",
      "file_extension": ".py",
      "codemirror_mode": {
        "version": 3,
        "name": "ipython"
      }
    }
  },
  "nbformat": 4,
  "nbformat_minor": 1
}