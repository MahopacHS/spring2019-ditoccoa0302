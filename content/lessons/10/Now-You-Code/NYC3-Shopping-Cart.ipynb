{
  "cells": [
    {
      "metadata": {},
      "cell_type": "markdown",
      "source": "# Now You Code 3: Shopping Cart\n\nIn this program you will implement an online shopping cart using a Python list of dictionary. The dictionary will contain the product name, price and quantity. \n\n\nThe program should loop continually,  asking the user to enter \n - Product name\n - Product price\n - Product quantity\n\nuntil the user enters a product name of `'checkout'` at which time the loop should break.\n\nEach time through the loop you should create a dictionary of product name, product price and product quantity then add the dictionary to a list.\n\nAfter you enter `'checkout'`  the program should show:\n\n - all the items in the cart, including their quantity and price\n - and the total amount of the order, a running sum of quantity times price\n\nNOTE: Don't worry about handling bad inputs for this exercise.\n\nExample Run:\n\n```\nE-Commerce Shopping Cart\nEnter product name or 'checkout':pencil\nEnter pencil Price:0.99\nEnter pencil Quantity:10\nEnter product name or 'checkout':calculator\nEnter calculator Price:9.99\nEnter calculator Quantity:1\nEnter product name or 'checkout':checkout\npencil 10 $0.99\ncalculator 1 $9.99\nTOTAL: $19.89\n```\n\nStart out your program by writing your TODO list of steps you'll need to solve the problem!"
    },
    {
      "metadata": {
        "collapsed": true
      },
      "cell_type": "markdown",
      "source": "## Step 1: Problem Analysis\n\nInputs: Items, prices, and quantities\n\nOutputs: Items, prices, quantities, and total price\n\nAlgorithm (Steps in Program):\n\n- create empty list\n- set total price to 0\n- loop:\n    - create item dictionary\n    - input item name as 'name' value in dictionary\n    - if item name is 'checkout' stop looping\n    - input item quantity as 'quantity' value in dictionary, as an integer\n    - input item price as 'price' value in dictionary, as a float\n    - add item dictionary to list\n- for each dictionary in list\n    - print all values of the dictionary\n    - add quantity * price to the total price\n- print total price"
    },
    {
      "metadata": {
        "trusted": true
      },
      "cell_type": "code",
      "source": "# STEP 2: Write code\ncart = []\ntotal_price = 0\nwhile True:\n    item = {}\n    item['name'] = input(\"Enter an item or type 'checkout': \")\n    if item['name'] == 'checkout':\n        break\n    item['quantity'] = int(input('Enter quantity: '))\n    item['price'] = float(input('Enter price: '))\n    cart.append(item)\nfor item in cart:\n    print(\"%s (%d): $%.2f\" % (item['name'], item['quantity'], item ['price']))\n    total_price = total_price + (item['quantity'] * item['price'])\nif cart != []:\n    print ('Total price: $%.2f' % total_price)",
      "execution_count": 5,
      "outputs": [
        {
          "output_type": "stream",
          "name": "stdout",
          "text": "Enter an item or type 'checkout': burger\nEnter quantity: 2\nEnter price: .99\nEnter an item or type 'checkout': french fries\nEnter quantity: 1\nEnter price: 1.49\nEnter an item or type 'checkout': checkout\nburger (2): $0.99\nfrench fries (1): $1.49\nTotal price: $3.47\n"
        }
      ]
    },
    {
      "metadata": {},
      "cell_type": "markdown",
      "source": "## Step 3: Questions\n\n1. How does using a Python dictionary simplify this program? (Think of how you would have to write this program if you did not use a dictionary)\n\nIf I did not use a dictionary, I would have to use lists instead, which would require me to rely on index notation. It would also make the program more confusing because the values don't have labels attached to them (such as quantity).\n\n2. What Happens when you run the program and just type `checkout`. Does the program work as you would expect?\n\nThe program doesn't work as I would expect. I thought it would return nothing but it returns a total price of $0.\n"
    },
    {
      "metadata": {},
      "cell_type": "markdown",
      "source": "## Reminder of Evaluation Criteria\n\n1. What the problem attempted (analysis, code, and answered questions) ?\n2. What the problem analysis thought out? (does the program match the plan?)\n3. Does the code execute without syntax error?\n4. Does the code solve the intended problem?\n5. Is the code well written? (easy to understand, modular, and self-documenting, handles errors)\n"
    },
    {
      "metadata": {
        "trusted": false
      },
      "cell_type": "code",
      "source": "",
      "execution_count": null,
      "outputs": []
    }
  ],
  "metadata": {
    "anaconda-cloud": {},
    "kernelspec": {
      "name": "python3",
      "display_name": "Python 3",
      "language": "python"
    },
    "language_info": {
      "mimetype": "text/x-python",
      "nbconvert_exporter": "python",
      "name": "python",
      "file_extension": ".py",
      "version": "3.5.4",
      "pygments_lexer": "ipython3",
      "codemirror_mode": {
        "version": 3,
        "name": "ipython"
      }
    }
  },
  "nbformat": 4,
  "nbformat_minor": 1
}