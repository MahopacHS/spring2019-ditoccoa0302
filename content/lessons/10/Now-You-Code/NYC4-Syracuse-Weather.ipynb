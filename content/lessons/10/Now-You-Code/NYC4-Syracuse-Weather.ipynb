{
  "cells": [
    {
      "metadata": {},
      "cell_type": "markdown",
      "source": "# Now You Code 4: Syracuse Weather\n\nWrite a program to load the Syracuse weather data from Dec 2015 in\nJSON format into a Python list of dictionary. \n\nThe file with the weather data is in your `Now-You-Code` folder: `\"NYC4-syr-weather-dec-2015.json\"`\n\nYou should load this data into a Python list of dictionary using the `json` package. \n\nAfter you load this data, loop over the list of weather items and record whether or not the `'Mean TemperatureF'` is above or below freezing. \n\nSort this information into a separate Python dictionary, called `stats` so you can print it out like this:\n```\n{'below-freezing': 4, 'above-freezing': 27}\n```\n\n"
    },
    {
      "metadata": {
        "collapsed": true
      },
      "cell_type": "markdown",
      "source": "## Step 1: Problem Analysis\n\nInputs: None (file)\n\nOutputs: a dictionary of temperatures and a dictionary of temp. frequency\n\nAlgorithm (Steps in Program):\n- create empty dictionary of temperature frequency\n- open the file\n- use JSON to convert the file to a python list\n- for each dictionary in the list\n    - if the mean temperature is above 32\n        - increase the frequency of above freezing temperatures by 1\n    - else\n        - increase the frequency of below freezing temperatures by 1\n- print the frequency dictionary\n        "
    },
    {
      "metadata": {
        "trusted": true
      },
      "cell_type": "code",
      "source": "# Step 2: Write code\ntemp_fr = {'below_freezing': 0 , 'above_freezing': 0}\nimport json\nwith open ('NYC4-syr-weather-dec-2015.json', encoding='utf-8') as file:\n    weather = file.read()\n    weather = json.loads(weather)\nfor day in weather:\n    if day['Mean TemperatureF'] > 32:\n        temp_fr['above_freezing'] = temp_fr['above_freezing'] + 1\n    else:\n        temp_fr['below_freezing'] = temp_fr['below_freezing'] + 1\nprint(temp_fr)",
      "execution_count": 15,
      "outputs": [
        {
          "output_type": "stream",
          "text": "{'above_freezing': 27, 'below_freezing': 4}\n",
          "name": "stdout"
        }
      ]
    },
    {
      "metadata": {},
      "cell_type": "markdown",
      "source": "## Step 3: Questions\n\n1. What are the advantages to storing the number of days above freezing and below freezing in a Python dictionary?\n\nThe number of days below freezing and the number of days above freezing have their own labels and they could both be stored in the same variable.\n\n2. What is the data type of the weather data as it is read from the file `NYC4-syr-weather-dec-2015.json` ?\n\nWhen it is read from the file it is a string.\n\n3. Could this same program work for weather at other times in other cities? What conditions would need to be met for this to happen?\n\nThis program could work for weather at other times in other cities as long as there is a list of python dictionaries readily available that contains that weather."
    },
    {
      "metadata": {},
      "cell_type": "markdown",
      "source": "## Reminder of Evaluation Criteria\n\n1. What the problem attempted (analysis, code, and answered questions) ?\n2. What the problem analysis thought out? (does the program match the plan?)\n3. Does the code execute without syntax error?\n4. Does the code solve the intended problem?\n5. Is the code well written? (easy to understand, modular, and self-documenting, handles errors)\n"
    }
  ],
  "metadata": {
    "anaconda-cloud": {},
    "kernelspec": {
      "name": "python3",
      "display_name": "Python 3",
      "language": "python"
    },
    "language_info": {
      "mimetype": "text/x-python",
      "nbconvert_exporter": "python",
      "name": "python",
      "pygments_lexer": "ipython3",
      "version": "3.5.4",
      "file_extension": ".py",
      "codemirror_mode": {
        "version": 3,
        "name": "ipython"
      }
    }
  },
  "nbformat": 4,
  "nbformat_minor": 1
}