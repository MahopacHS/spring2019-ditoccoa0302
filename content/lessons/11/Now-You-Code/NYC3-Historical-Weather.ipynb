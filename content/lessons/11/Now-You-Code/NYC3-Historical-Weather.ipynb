{
  "cells": [
    {
      "metadata": {},
      "cell_type": "markdown",
      "source": "# Now You Code 3: Syracuse Historical Weather\n\nWrite a program to prompt a user to input a date and time string, and then it should **report the temperature and weather conditions on that day and time for Syracuse, NY.**\n\nTo accomplish this, use the Dark Sky Time Machine API, here: https://darksky.net/dev/docs/time-machine \n\nYou're going to have to read about the API and understand how it works before you can write this program, which is the point of the exercise.\n\nThe date and time that the user inputs must be in the following format: `YYYY-MM-DDThh:mm:ss` \n\nFor example January 7, 2016 at 4:30pm would be: `2016-01-07T16:30:00`\n\nBe sure to use the GPS coordinates for Syracuse, NY which are (lat=43.048122,lng=-76.147424)\n\nExample Run (Based on the exchange rates from 2017-03-06:\n\n```\nSyracuse, NY Historical Weather\nEnter a date and time in the following format: YYYY-MM-DDThh:mm:ss => 2016-07-23T14:30:00\nOn 2016-07-23T14:30:00 Syracuse, NY was Partly Cloudy with a temperature of  85\n```\n"
    },
    {
      "metadata": {
        "collapsed": true
      },
      "cell_type": "markdown",
      "source": "## Step 1: Problem Analysis\n\nInputs: A date in the format `YYYY-MM-DDThh:mm:ss` \n\nOutputs: the current weather conditions (sunny, rain, partly cloudy) and the temperature.\n\nAlgorithm (Steps in Program):\n\n- input date and time string\n- set url to https://api.darksky.net/forecast/[key]/43.048122,76.147424,[time]\n- use requests.get to obtain the site data\n- format the response into JSON\n- print the output using the time (variable), weather summary, and temperature (dictionary entries)"
    },
    {
      "metadata": {
        "trusted": true
      },
      "cell_type": "code",
      "source": "print(\"Syracuse Historical Weather (Powered by Dark Sky)\")\nimport requests\nimport json\n# step 2: write code here\ntime = input(\"In the format 'YYYY-MM-DDThh:mm:ss', enter the date and time: \")\nurl = 'https://api.darksky.net/forecast/443488a736f9e3a0dcbd670aa8d3b401/43.048122,-76.147424,' + time\ntry:\n    response = requests.get(url)\n    response = response.json()\n    print(\"On %s, Syracuse, NY, was %s with a temperature of %s°F.\" % (time, response['currently']['summary'], response['currently']['temperature']))\nexcept json.decoder.JSONDecodeError as e:\n    print(\"Error: Could not decode the response into JSON (Make sure the date is in the correct format!)\\nDetails:\",e)\nexcept requests.exceptions.RequestException as e: \n    print(\"Error: Could not connect to the site\\nDetails:\",e)",
      "execution_count": 6,
      "outputs": [
        {
          "output_type": "stream",
          "text": "Syracuse Historical Weather (Powered by Dark Sky)\nIn the format 'YYYY-MM-DDThh:mm:ss', enter the date and time: 2018-01-01T12:00:00\nOn 2018-01-01T12:00:00, Syracuse, NY, was Clear with a temperature of 10.06°F.\n",
          "name": "stdout"
        }
      ]
    },
    {
      "metadata": {},
      "cell_type": "markdown",
      "source": "## Step 6: Questions\n\n1. What happens when you enter `1/1/2017` as date input? Which error to you get? Fix the program in step 2 so that it handles this error.\n\nI get a JSON decode error.\n\n2. Put your laptop in Airplane mode (disable the wifi) and then run the program. What happens? Fix the program in step 4 so that it handles this error. \n\nThe program won't continue because I can't connect to the Notebooks site."
    },
    {
      "metadata": {},
      "cell_type": "markdown",
      "source": "## Reminder of Evaluation Criteria\n\n1. What the problem attempted (analysis, code, and answered questions) ?\n2. What the problem analysis thought out? (does the program match the plan?)\n3. Does the code execute without syntax error?\n4. Does the code solve the intended problem?\n5. Is the code well written? (easy to understand, modular, and self-documenting, handles errors)"
    }
  ],
  "metadata": {
    "anaconda-cloud": {},
    "kernelspec": {
      "name": "python3",
      "display_name": "Python 3",
      "language": "python"
    },
    "language_info": {
      "mimetype": "text/x-python",
      "nbconvert_exporter": "python",
      "name": "python",
      "file_extension": ".py",
      "version": "3.5.4",
      "pygments_lexer": "ipython3",
      "codemirror_mode": {
        "version": 3,
        "name": "ipython"
      }
    }
  },
  "nbformat": 4,
  "nbformat_minor": 1
}